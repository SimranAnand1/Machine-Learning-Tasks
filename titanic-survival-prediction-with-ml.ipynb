{
 "cells": [
  {
   "cell_type": "markdown",
   "id": "17aec705",
   "metadata": {
    "papermill": {
     "duration": 0.047432,
     "end_time": "2021-07-31T00:08:30.097072",
     "exception": false,
     "start_time": "2021-07-31T00:08:30.049640",
     "status": "completed"
    },
    "tags": []
   },
   "source": [
    "### Titanic | ML Classification Prediction Algorithms with accuracy (79.2%)"
   ]
  },
  {
   "cell_type": "code",
   "execution_count": 1,
   "id": "7465c2f6",
   "metadata": {
    "execution": {
     "iopub.execute_input": "2021-07-31T00:08:30.193795Z",
     "iopub.status.busy": "2021-07-31T00:08:30.192601Z",
     "iopub.status.idle": "2021-07-31T00:08:31.626148Z",
     "shell.execute_reply": "2021-07-31T00:08:31.625287Z",
     "shell.execute_reply.started": "2021-07-31T00:03:44.578979Z"
    },
    "papermill": {
     "duration": 1.481329,
     "end_time": "2021-07-31T00:08:31.626319",
     "exception": false,
     "start_time": "2021-07-31T00:08:30.144990",
     "status": "completed"
    },
    "tags": []
   },
   "outputs": [],
   "source": [
    "import numpy as np\n",
    "import pandas as pd\n",
    "import matplotlib.pyplot as plt\n",
    "import seaborn as sns\n",
    "from sklearn.linear_model import LinearRegression\n",
    "from sklearn.linear_model import LogisticRegression\n",
    "from sklearn.linear_model import SGDClassifier\n",
    "from sklearn.metrics import accuracy_score\n",
    "from sklearn.metrics import r2_score\n",
    "from sklearn.metrics import classification_report\n",
    "from sklearn.model_selection import cross_val_score\n",
    "from sklearn.neighbors import KNeighborsClassifier\n",
    "from sklearn.ensemble import RandomForestClassifier\n",
    "from sklearn.tree import DecisionTreeClassifier\n",
    "from sklearn.neural_network import MLPClassifier\n",
    "from sklearn.naive_bayes import GaussianNB\n",
    "from sklearn.linear_model import Perceptron\n",
    "from sklearn import svm\n",
    "import warnings"
   ]
  },
  {
   "cell_type": "code",
   "execution_count": 2,
   "id": "406878b8",
   "metadata": {
    "execution": {
     "iopub.execute_input": "2021-07-31T00:08:31.722443Z",
     "iopub.status.busy": "2021-07-31T00:08:31.721628Z",
     "iopub.status.idle": "2021-07-31T00:08:31.724608Z",
     "shell.execute_reply": "2021-07-31T00:08:31.724026Z",
     "shell.execute_reply.started": "2021-07-31T00:03:46.053078Z"
    },
    "papermill": {
     "duration": 0.052274,
     "end_time": "2021-07-31T00:08:31.724747",
     "exception": false,
     "start_time": "2021-07-31T00:08:31.672473",
     "status": "completed"
    },
    "tags": []
   },
   "outputs": [],
   "source": [
    "warnings.filterwarnings('ignore')"
   ]
  },
  {
   "cell_type": "markdown",
   "id": "02b39903",
   "metadata": {
    "papermill": {
     "duration": 0.045848,
     "end_time": "2021-07-31T00:08:31.815758",
     "exception": false,
     "start_time": "2021-07-31T00:08:31.769910",
     "status": "completed"
    },
    "tags": []
   },
   "source": [
    "## EDA"
   ]
  },
  {
   "cell_type": "code",
   "execution_count": 3,
   "id": "6a2f6e7f",
   "metadata": {
    "execution": {
     "iopub.execute_input": "2021-07-31T00:08:31.912304Z",
     "iopub.status.busy": "2021-07-31T00:08:31.911499Z",
     "iopub.status.idle": "2021-07-31T00:08:31.966293Z",
     "shell.execute_reply": "2021-07-31T00:08:31.965589Z",
     "shell.execute_reply.started": "2021-07-31T00:03:46.059022Z"
    },
    "papermill": {
     "duration": 0.105399,
     "end_time": "2021-07-31T00:08:31.966461",
     "exception": false,
     "start_time": "2021-07-31T00:08:31.861062",
     "status": "completed"
    },
    "tags": []
   },
   "outputs": [
    {
     "data": {
      "text/html": [
       "<div>\n",
       "<style scoped>\n",
       "    .dataframe tbody tr th:only-of-type {\n",
       "        vertical-align: middle;\n",
       "    }\n",
       "\n",
       "    .dataframe tbody tr th {\n",
       "        vertical-align: top;\n",
       "    }\n",
       "\n",
       "    .dataframe thead th {\n",
       "        text-align: right;\n",
       "    }\n",
       "</style>\n",
       "<table border=\"1\" class=\"dataframe\">\n",
       "  <thead>\n",
       "    <tr style=\"text-align: right;\">\n",
       "      <th></th>\n",
       "      <th>Survived</th>\n",
       "      <th>Pclass</th>\n",
       "      <th>Name</th>\n",
       "      <th>Sex</th>\n",
       "      <th>Age</th>\n",
       "      <th>SibSp</th>\n",
       "      <th>Parch</th>\n",
       "      <th>Ticket</th>\n",
       "      <th>Fare</th>\n",
       "      <th>Cabin</th>\n",
       "      <th>Embarked</th>\n",
       "    </tr>\n",
       "    <tr>\n",
       "      <th>PassengerId</th>\n",
       "      <th></th>\n",
       "      <th></th>\n",
       "      <th></th>\n",
       "      <th></th>\n",
       "      <th></th>\n",
       "      <th></th>\n",
       "      <th></th>\n",
       "      <th></th>\n",
       "      <th></th>\n",
       "      <th></th>\n",
       "      <th></th>\n",
       "    </tr>\n",
       "  </thead>\n",
       "  <tbody>\n",
       "    <tr>\n",
       "      <th>1</th>\n",
       "      <td>0</td>\n",
       "      <td>3</td>\n",
       "      <td>Braund, Mr. Owen Harris</td>\n",
       "      <td>male</td>\n",
       "      <td>22.0</td>\n",
       "      <td>1</td>\n",
       "      <td>0</td>\n",
       "      <td>A/5 21171</td>\n",
       "      <td>7.2500</td>\n",
       "      <td>NaN</td>\n",
       "      <td>S</td>\n",
       "    </tr>\n",
       "    <tr>\n",
       "      <th>2</th>\n",
       "      <td>1</td>\n",
       "      <td>1</td>\n",
       "      <td>Cumings, Mrs. John Bradley (Florence Briggs Th...</td>\n",
       "      <td>female</td>\n",
       "      <td>38.0</td>\n",
       "      <td>1</td>\n",
       "      <td>0</td>\n",
       "      <td>PC 17599</td>\n",
       "      <td>71.2833</td>\n",
       "      <td>C85</td>\n",
       "      <td>C</td>\n",
       "    </tr>\n",
       "    <tr>\n",
       "      <th>3</th>\n",
       "      <td>1</td>\n",
       "      <td>3</td>\n",
       "      <td>Heikkinen, Miss. Laina</td>\n",
       "      <td>female</td>\n",
       "      <td>26.0</td>\n",
       "      <td>0</td>\n",
       "      <td>0</td>\n",
       "      <td>STON/O2. 3101282</td>\n",
       "      <td>7.9250</td>\n",
       "      <td>NaN</td>\n",
       "      <td>S</td>\n",
       "    </tr>\n",
       "    <tr>\n",
       "      <th>4</th>\n",
       "      <td>1</td>\n",
       "      <td>1</td>\n",
       "      <td>Futrelle, Mrs. Jacques Heath (Lily May Peel)</td>\n",
       "      <td>female</td>\n",
       "      <td>35.0</td>\n",
       "      <td>1</td>\n",
       "      <td>0</td>\n",
       "      <td>113803</td>\n",
       "      <td>53.1000</td>\n",
       "      <td>C123</td>\n",
       "      <td>S</td>\n",
       "    </tr>\n",
       "    <tr>\n",
       "      <th>5</th>\n",
       "      <td>0</td>\n",
       "      <td>3</td>\n",
       "      <td>Allen, Mr. William Henry</td>\n",
       "      <td>male</td>\n",
       "      <td>35.0</td>\n",
       "      <td>0</td>\n",
       "      <td>0</td>\n",
       "      <td>373450</td>\n",
       "      <td>8.0500</td>\n",
       "      <td>NaN</td>\n",
       "      <td>S</td>\n",
       "    </tr>\n",
       "  </tbody>\n",
       "</table>\n",
       "</div>"
      ],
      "text/plain": [
       "             Survived  Pclass  \\\n",
       "PassengerId                     \n",
       "1                   0       3   \n",
       "2                   1       1   \n",
       "3                   1       3   \n",
       "4                   1       1   \n",
       "5                   0       3   \n",
       "\n",
       "                                                          Name     Sex   Age  \\\n",
       "PassengerId                                                                    \n",
       "1                                      Braund, Mr. Owen Harris    male  22.0   \n",
       "2            Cumings, Mrs. John Bradley (Florence Briggs Th...  female  38.0   \n",
       "3                                       Heikkinen, Miss. Laina  female  26.0   \n",
       "4                 Futrelle, Mrs. Jacques Heath (Lily May Peel)  female  35.0   \n",
       "5                                     Allen, Mr. William Henry    male  35.0   \n",
       "\n",
       "             SibSp  Parch            Ticket     Fare Cabin Embarked  \n",
       "PassengerId                                                          \n",
       "1                1      0         A/5 21171   7.2500   NaN        S  \n",
       "2                1      0          PC 17599  71.2833   C85        C  \n",
       "3                0      0  STON/O2. 3101282   7.9250   NaN        S  \n",
       "4                1      0            113803  53.1000  C123        S  \n",
       "5                0      0            373450   8.0500   NaN        S  "
      ]
     },
     "execution_count": 3,
     "metadata": {},
     "output_type": "execute_result"
    }
   ],
   "source": [
    "df_train = pd.read_csv(\"../input/titanic/train.csv\",index_col=\"PassengerId\")\n",
    "df_train.head()"
   ]
  },
  {
   "cell_type": "code",
   "execution_count": 4,
   "id": "d61f3582",
   "metadata": {
    "execution": {
     "iopub.execute_input": "2021-07-31T00:08:32.085230Z",
     "iopub.status.busy": "2021-07-31T00:08:32.084487Z",
     "iopub.status.idle": "2021-07-31T00:08:32.112334Z",
     "shell.execute_reply": "2021-07-31T00:08:32.111680Z",
     "shell.execute_reply.started": "2021-07-31T00:03:46.125808Z"
    },
    "papermill": {
     "duration": 0.088236,
     "end_time": "2021-07-31T00:08:32.112478",
     "exception": false,
     "start_time": "2021-07-31T00:08:32.024242",
     "status": "completed"
    },
    "tags": []
   },
   "outputs": [
    {
     "data": {
      "text/html": [
       "<div>\n",
       "<style scoped>\n",
       "    .dataframe tbody tr th:only-of-type {\n",
       "        vertical-align: middle;\n",
       "    }\n",
       "\n",
       "    .dataframe tbody tr th {\n",
       "        vertical-align: top;\n",
       "    }\n",
       "\n",
       "    .dataframe thead th {\n",
       "        text-align: right;\n",
       "    }\n",
       "</style>\n",
       "<table border=\"1\" class=\"dataframe\">\n",
       "  <thead>\n",
       "    <tr style=\"text-align: right;\">\n",
       "      <th></th>\n",
       "      <th>Pclass</th>\n",
       "      <th>Name</th>\n",
       "      <th>Sex</th>\n",
       "      <th>Age</th>\n",
       "      <th>SibSp</th>\n",
       "      <th>Parch</th>\n",
       "      <th>Ticket</th>\n",
       "      <th>Fare</th>\n",
       "      <th>Cabin</th>\n",
       "      <th>Embarked</th>\n",
       "    </tr>\n",
       "    <tr>\n",
       "      <th>PassengerId</th>\n",
       "      <th></th>\n",
       "      <th></th>\n",
       "      <th></th>\n",
       "      <th></th>\n",
       "      <th></th>\n",
       "      <th></th>\n",
       "      <th></th>\n",
       "      <th></th>\n",
       "      <th></th>\n",
       "      <th></th>\n",
       "    </tr>\n",
       "  </thead>\n",
       "  <tbody>\n",
       "    <tr>\n",
       "      <th>892</th>\n",
       "      <td>3</td>\n",
       "      <td>Kelly, Mr. James</td>\n",
       "      <td>male</td>\n",
       "      <td>34.5</td>\n",
       "      <td>0</td>\n",
       "      <td>0</td>\n",
       "      <td>330911</td>\n",
       "      <td>7.8292</td>\n",
       "      <td>NaN</td>\n",
       "      <td>Q</td>\n",
       "    </tr>\n",
       "    <tr>\n",
       "      <th>893</th>\n",
       "      <td>3</td>\n",
       "      <td>Wilkes, Mrs. James (Ellen Needs)</td>\n",
       "      <td>female</td>\n",
       "      <td>47.0</td>\n",
       "      <td>1</td>\n",
       "      <td>0</td>\n",
       "      <td>363272</td>\n",
       "      <td>7.0000</td>\n",
       "      <td>NaN</td>\n",
       "      <td>S</td>\n",
       "    </tr>\n",
       "    <tr>\n",
       "      <th>894</th>\n",
       "      <td>2</td>\n",
       "      <td>Myles, Mr. Thomas Francis</td>\n",
       "      <td>male</td>\n",
       "      <td>62.0</td>\n",
       "      <td>0</td>\n",
       "      <td>0</td>\n",
       "      <td>240276</td>\n",
       "      <td>9.6875</td>\n",
       "      <td>NaN</td>\n",
       "      <td>Q</td>\n",
       "    </tr>\n",
       "    <tr>\n",
       "      <th>895</th>\n",
       "      <td>3</td>\n",
       "      <td>Wirz, Mr. Albert</td>\n",
       "      <td>male</td>\n",
       "      <td>27.0</td>\n",
       "      <td>0</td>\n",
       "      <td>0</td>\n",
       "      <td>315154</td>\n",
       "      <td>8.6625</td>\n",
       "      <td>NaN</td>\n",
       "      <td>S</td>\n",
       "    </tr>\n",
       "    <tr>\n",
       "      <th>896</th>\n",
       "      <td>3</td>\n",
       "      <td>Hirvonen, Mrs. Alexander (Helga E Lindqvist)</td>\n",
       "      <td>female</td>\n",
       "      <td>22.0</td>\n",
       "      <td>1</td>\n",
       "      <td>1</td>\n",
       "      <td>3101298</td>\n",
       "      <td>12.2875</td>\n",
       "      <td>NaN</td>\n",
       "      <td>S</td>\n",
       "    </tr>\n",
       "  </tbody>\n",
       "</table>\n",
       "</div>"
      ],
      "text/plain": [
       "             Pclass                                          Name     Sex  \\\n",
       "PassengerId                                                                 \n",
       "892               3                              Kelly, Mr. James    male   \n",
       "893               3              Wilkes, Mrs. James (Ellen Needs)  female   \n",
       "894               2                     Myles, Mr. Thomas Francis    male   \n",
       "895               3                              Wirz, Mr. Albert    male   \n",
       "896               3  Hirvonen, Mrs. Alexander (Helga E Lindqvist)  female   \n",
       "\n",
       "              Age  SibSp  Parch   Ticket     Fare Cabin Embarked  \n",
       "PassengerId                                                       \n",
       "892          34.5      0      0   330911   7.8292   NaN        Q  \n",
       "893          47.0      1      0   363272   7.0000   NaN        S  \n",
       "894          62.0      0      0   240276   9.6875   NaN        Q  \n",
       "895          27.0      0      0   315154   8.6625   NaN        S  \n",
       "896          22.0      1      1  3101298  12.2875   NaN        S  "
      ]
     },
     "execution_count": 4,
     "metadata": {},
     "output_type": "execute_result"
    }
   ],
   "source": [
    "df_test = pd.read_csv(\"../input/titanic/test.csv\", index_col=\"PassengerId\")\n",
    "df_test.head()"
   ]
  },
  {
   "cell_type": "code",
   "execution_count": 5,
   "id": "aeaa918c",
   "metadata": {
    "execution": {
     "iopub.execute_input": "2021-07-31T00:08:32.210405Z",
     "iopub.status.busy": "2021-07-31T00:08:32.209585Z",
     "iopub.status.idle": "2021-07-31T00:08:32.212842Z",
     "shell.execute_reply": "2021-07-31T00:08:32.213404Z",
     "shell.execute_reply.started": "2021-07-31T00:03:46.155568Z"
    },
    "papermill": {
     "duration": 0.055332,
     "end_time": "2021-07-31T00:08:32.213579",
     "exception": false,
     "start_time": "2021-07-31T00:08:32.158247",
     "status": "completed"
    },
    "tags": []
   },
   "outputs": [
    {
     "data": {
      "text/plain": [
       "array([0, 1, 2, 5, 3, 4, 6])"
      ]
     },
     "execution_count": 5,
     "metadata": {},
     "output_type": "execute_result"
    }
   ],
   "source": [
    "df_train.Parch.unique()"
   ]
  },
  {
   "cell_type": "code",
   "execution_count": 6,
   "id": "422adb1e",
   "metadata": {
    "execution": {
     "iopub.execute_input": "2021-07-31T00:08:32.310885Z",
     "iopub.status.busy": "2021-07-31T00:08:32.309883Z",
     "iopub.status.idle": "2021-07-31T00:08:32.329960Z",
     "shell.execute_reply": "2021-07-31T00:08:32.329418Z",
     "shell.execute_reply.started": "2021-07-31T00:03:46.16418Z"
    },
    "papermill": {
     "duration": 0.069469,
     "end_time": "2021-07-31T00:08:32.330137",
     "exception": false,
     "start_time": "2021-07-31T00:08:32.260668",
     "status": "completed"
    },
    "tags": []
   },
   "outputs": [
    {
     "name": "stdout",
     "output_type": "stream",
     "text": [
      "<class 'pandas.core.frame.DataFrame'>\n",
      "Int64Index: 418 entries, 892 to 1309\n",
      "Data columns (total 10 columns):\n",
      " #   Column    Non-Null Count  Dtype  \n",
      "---  ------    --------------  -----  \n",
      " 0   Pclass    418 non-null    int64  \n",
      " 1   Name      418 non-null    object \n",
      " 2   Sex       418 non-null    object \n",
      " 3   Age       332 non-null    float64\n",
      " 4   SibSp     418 non-null    int64  \n",
      " 5   Parch     418 non-null    int64  \n",
      " 6   Ticket    418 non-null    object \n",
      " 7   Fare      417 non-null    float64\n",
      " 8   Cabin     91 non-null     object \n",
      " 9   Embarked  418 non-null    object \n",
      "dtypes: float64(2), int64(3), object(5)\n",
      "memory usage: 35.9+ KB\n"
     ]
    }
   ],
   "source": [
    "df_test.info()"
   ]
  },
  {
   "cell_type": "code",
   "execution_count": 7,
   "id": "28e5fe9b",
   "metadata": {
    "execution": {
     "iopub.execute_input": "2021-07-31T00:08:32.428615Z",
     "iopub.status.busy": "2021-07-31T00:08:32.427927Z",
     "iopub.status.idle": "2021-07-31T00:08:32.446736Z",
     "shell.execute_reply": "2021-07-31T00:08:32.446082Z",
     "shell.execute_reply.started": "2021-07-31T00:03:46.192831Z"
    },
    "papermill": {
     "duration": 0.070011,
     "end_time": "2021-07-31T00:08:32.446872",
     "exception": false,
     "start_time": "2021-07-31T00:08:32.376861",
     "status": "completed"
    },
    "tags": []
   },
   "outputs": [
    {
     "data": {
      "text/html": [
       "<div>\n",
       "<style scoped>\n",
       "    .dataframe tbody tr th:only-of-type {\n",
       "        vertical-align: middle;\n",
       "    }\n",
       "\n",
       "    .dataframe tbody tr th {\n",
       "        vertical-align: top;\n",
       "    }\n",
       "\n",
       "    .dataframe thead th {\n",
       "        text-align: right;\n",
       "    }\n",
       "</style>\n",
       "<table border=\"1\" class=\"dataframe\">\n",
       "  <thead>\n",
       "    <tr style=\"text-align: right;\">\n",
       "      <th></th>\n",
       "      <th>Survived</th>\n",
       "    </tr>\n",
       "    <tr>\n",
       "      <th>PassengerId</th>\n",
       "      <th></th>\n",
       "    </tr>\n",
       "  </thead>\n",
       "  <tbody>\n",
       "    <tr>\n",
       "      <th>892</th>\n",
       "      <td>0</td>\n",
       "    </tr>\n",
       "    <tr>\n",
       "      <th>893</th>\n",
       "      <td>1</td>\n",
       "    </tr>\n",
       "    <tr>\n",
       "      <th>894</th>\n",
       "      <td>0</td>\n",
       "    </tr>\n",
       "    <tr>\n",
       "      <th>895</th>\n",
       "      <td>0</td>\n",
       "    </tr>\n",
       "    <tr>\n",
       "      <th>896</th>\n",
       "      <td>1</td>\n",
       "    </tr>\n",
       "  </tbody>\n",
       "</table>\n",
       "</div>"
      ],
      "text/plain": [
       "             Survived\n",
       "PassengerId          \n",
       "892                 0\n",
       "893                 1\n",
       "894                 0\n",
       "895                 0\n",
       "896                 1"
      ]
     },
     "execution_count": 7,
     "metadata": {},
     "output_type": "execute_result"
    }
   ],
   "source": [
    "Y_test = pd.read_csv(\"../input/titanic/gender_submission.csv\", index_col=\"PassengerId\")\n",
    "Y_test.head()"
   ]
  },
  {
   "cell_type": "code",
   "execution_count": 8,
   "id": "745c99bf",
   "metadata": {
    "execution": {
     "iopub.execute_input": "2021-07-31T00:08:32.555750Z",
     "iopub.status.busy": "2021-07-31T00:08:32.555047Z",
     "iopub.status.idle": "2021-07-31T00:08:32.557749Z",
     "shell.execute_reply": "2021-07-31T00:08:32.558271Z",
     "shell.execute_reply.started": "2021-07-31T00:03:46.212631Z"
    },
    "papermill": {
     "duration": 0.064309,
     "end_time": "2021-07-31T00:08:32.558440",
     "exception": false,
     "start_time": "2021-07-31T00:08:32.494131",
     "status": "completed"
    },
    "tags": []
   },
   "outputs": [
    {
     "name": "stdout",
     "output_type": "stream",
     "text": [
      "<class 'pandas.core.frame.DataFrame'>\n",
      "Int64Index: 891 entries, 1 to 891\n",
      "Data columns (total 11 columns):\n",
      " #   Column    Non-Null Count  Dtype  \n",
      "---  ------    --------------  -----  \n",
      " 0   Survived  891 non-null    int64  \n",
      " 1   Pclass    891 non-null    int64  \n",
      " 2   Name      891 non-null    object \n",
      " 3   Sex       891 non-null    object \n",
      " 4   Age       714 non-null    float64\n",
      " 5   SibSp     891 non-null    int64  \n",
      " 6   Parch     891 non-null    int64  \n",
      " 7   Ticket    891 non-null    object \n",
      " 8   Fare      891 non-null    float64\n",
      " 9   Cabin     204 non-null    object \n",
      " 10  Embarked  889 non-null    object \n",
      "dtypes: float64(2), int64(4), object(5)\n",
      "memory usage: 83.5+ KB\n"
     ]
    }
   ],
   "source": [
    "df_train.info()"
   ]
  },
  {
   "cell_type": "code",
   "execution_count": 9,
   "id": "1afd4828",
   "metadata": {
    "execution": {
     "iopub.execute_input": "2021-07-31T00:08:32.656303Z",
     "iopub.status.busy": "2021-07-31T00:08:32.655637Z",
     "iopub.status.idle": "2021-07-31T00:08:32.663705Z",
     "shell.execute_reply": "2021-07-31T00:08:32.664234Z",
     "shell.execute_reply.started": "2021-07-31T00:03:46.230862Z"
    },
    "papermill": {
     "duration": 0.058512,
     "end_time": "2021-07-31T00:08:32.664406",
     "exception": false,
     "start_time": "2021-07-31T00:08:32.605894",
     "status": "completed"
    },
    "tags": []
   },
   "outputs": [
    {
     "data": {
      "text/plain": [
       "Survived      0\n",
       "Pclass        0\n",
       "Name          0\n",
       "Sex           0\n",
       "Age         177\n",
       "SibSp         0\n",
       "Parch         0\n",
       "Ticket        0\n",
       "Fare          0\n",
       "Cabin       687\n",
       "Embarked      2\n",
       "dtype: int64"
      ]
     },
     "execution_count": 9,
     "metadata": {},
     "output_type": "execute_result"
    }
   ],
   "source": [
    "df_train.isnull().sum()"
   ]
  },
  {
   "cell_type": "markdown",
   "id": "1ea412de",
   "metadata": {
    "papermill": {
     "duration": 0.050721,
     "end_time": "2021-07-31T00:08:32.763267",
     "exception": false,
     "start_time": "2021-07-31T00:08:32.712546",
     "status": "completed"
    },
    "tags": []
   },
   "source": [
    "## Data Cleaning & Encoding"
   ]
  },
  {
   "cell_type": "code",
   "execution_count": 10,
   "id": "73dbb862",
   "metadata": {
    "execution": {
     "iopub.execute_input": "2021-07-31T00:08:32.865125Z",
     "iopub.status.busy": "2021-07-31T00:08:32.864455Z",
     "iopub.status.idle": "2021-07-31T00:08:32.877039Z",
     "shell.execute_reply": "2021-07-31T00:08:32.876499Z",
     "shell.execute_reply.started": "2021-07-31T00:03:46.242682Z"
    },
    "papermill": {
     "duration": 0.064494,
     "end_time": "2021-07-31T00:08:32.877221",
     "exception": false,
     "start_time": "2021-07-31T00:08:32.812727",
     "status": "completed"
    },
    "tags": []
   },
   "outputs": [
    {
     "data": {
      "text/html": [
       "<div>\n",
       "<style scoped>\n",
       "    .dataframe tbody tr th:only-of-type {\n",
       "        vertical-align: middle;\n",
       "    }\n",
       "\n",
       "    .dataframe tbody tr th {\n",
       "        vertical-align: top;\n",
       "    }\n",
       "\n",
       "    .dataframe thead th {\n",
       "        text-align: right;\n",
       "    }\n",
       "</style>\n",
       "<table border=\"1\" class=\"dataframe\">\n",
       "  <thead>\n",
       "    <tr style=\"text-align: right;\">\n",
       "      <th></th>\n",
       "      <th>Name</th>\n",
       "    </tr>\n",
       "    <tr>\n",
       "      <th>Embarked</th>\n",
       "      <th></th>\n",
       "    </tr>\n",
       "  </thead>\n",
       "  <tbody>\n",
       "    <tr>\n",
       "      <th>S</th>\n",
       "      <td>644</td>\n",
       "    </tr>\n",
       "    <tr>\n",
       "      <th>C</th>\n",
       "      <td>168</td>\n",
       "    </tr>\n",
       "    <tr>\n",
       "      <th>Q</th>\n",
       "      <td>77</td>\n",
       "    </tr>\n",
       "  </tbody>\n",
       "</table>\n",
       "</div>"
      ],
      "text/plain": [
       "          Name\n",
       "Embarked      \n",
       "S          644\n",
       "C          168\n",
       "Q           77"
      ]
     },
     "execution_count": 10,
     "metadata": {},
     "output_type": "execute_result"
    }
   ],
   "source": [
    "df_train[[\"Embarked\",\"Name\"]].groupby(by=[\"Embarked\"],as_index=True).count().sort_values(\"Name\",ascending=False)"
   ]
  },
  {
   "cell_type": "code",
   "execution_count": 11,
   "id": "3feac66e",
   "metadata": {
    "execution": {
     "iopub.execute_input": "2021-07-31T00:08:32.983673Z",
     "iopub.status.busy": "2021-07-31T00:08:32.982925Z",
     "iopub.status.idle": "2021-07-31T00:08:32.986390Z",
     "shell.execute_reply": "2021-07-31T00:08:32.985767Z",
     "shell.execute_reply.started": "2021-07-31T00:03:46.26233Z"
    },
    "papermill": {
     "duration": 0.060667,
     "end_time": "2021-07-31T00:08:32.986527",
     "exception": false,
     "start_time": "2021-07-31T00:08:32.925860",
     "status": "completed"
    },
    "tags": []
   },
   "outputs": [
    {
     "name": "stdout",
     "output_type": "stream",
     "text": [
      "the number of null value in Embarked Column = 0\n"
     ]
    }
   ],
   "source": [
    "# so we notes that Most repeated Embarked is S, so that we can replace null value in Embarked column with it.\n",
    "most_repeated = \"S\"\n",
    "df_train.Embarked.replace(np.nan, most_repeated, inplace=True)\n",
    "df_test.Embarked.replace(np.nan, most_repeated, inplace=True)\n",
    "print(\"the number of null value in Embarked Column =\",df_train.Embarked.isnull().sum())"
   ]
  },
  {
   "cell_type": "code",
   "execution_count": 12,
   "id": "478730b6",
   "metadata": {
    "execution": {
     "iopub.execute_input": "2021-07-31T00:08:33.105689Z",
     "iopub.status.busy": "2021-07-31T00:08:33.098793Z",
     "iopub.status.idle": "2021-07-31T00:08:33.110573Z",
     "shell.execute_reply": "2021-07-31T00:08:33.109862Z",
     "shell.execute_reply.started": "2021-07-31T00:03:46.278708Z"
    },
    "papermill": {
     "duration": 0.075527,
     "end_time": "2021-07-31T00:08:33.110719",
     "exception": false,
     "start_time": "2021-07-31T00:08:33.035192",
     "status": "completed"
    },
    "tags": []
   },
   "outputs": [
    {
     "data": {
      "text/html": [
       "<div>\n",
       "<style scoped>\n",
       "    .dataframe tbody tr th:only-of-type {\n",
       "        vertical-align: middle;\n",
       "    }\n",
       "\n",
       "    .dataframe tbody tr th {\n",
       "        vertical-align: top;\n",
       "    }\n",
       "\n",
       "    .dataframe thead th {\n",
       "        text-align: right;\n",
       "    }\n",
       "</style>\n",
       "<table border=\"1\" class=\"dataframe\">\n",
       "  <thead>\n",
       "    <tr style=\"text-align: right;\">\n",
       "      <th></th>\n",
       "      <th>Survived</th>\n",
       "      <th>Pclass</th>\n",
       "      <th>Name</th>\n",
       "      <th>Sex</th>\n",
       "      <th>Age</th>\n",
       "      <th>SibSp</th>\n",
       "      <th>Parch</th>\n",
       "      <th>Ticket</th>\n",
       "      <th>Fare</th>\n",
       "      <th>Cabin</th>\n",
       "      <th>Embarked</th>\n",
       "    </tr>\n",
       "    <tr>\n",
       "      <th>PassengerId</th>\n",
       "      <th></th>\n",
       "      <th></th>\n",
       "      <th></th>\n",
       "      <th></th>\n",
       "      <th></th>\n",
       "      <th></th>\n",
       "      <th></th>\n",
       "      <th></th>\n",
       "      <th></th>\n",
       "      <th></th>\n",
       "      <th></th>\n",
       "    </tr>\n",
       "  </thead>\n",
       "  <tbody>\n",
       "    <tr>\n",
       "      <th>1</th>\n",
       "      <td>0</td>\n",
       "      <td>3</td>\n",
       "      <td>Braund, Mr. Owen Harris</td>\n",
       "      <td>male</td>\n",
       "      <td>22.0</td>\n",
       "      <td>1</td>\n",
       "      <td>0</td>\n",
       "      <td>A/5 21171</td>\n",
       "      <td>7.2500</td>\n",
       "      <td>NaN</td>\n",
       "      <td>1</td>\n",
       "    </tr>\n",
       "    <tr>\n",
       "      <th>2</th>\n",
       "      <td>1</td>\n",
       "      <td>1</td>\n",
       "      <td>Cumings, Mrs. John Bradley (Florence Briggs Th...</td>\n",
       "      <td>female</td>\n",
       "      <td>38.0</td>\n",
       "      <td>1</td>\n",
       "      <td>0</td>\n",
       "      <td>PC 17599</td>\n",
       "      <td>71.2833</td>\n",
       "      <td>C85</td>\n",
       "      <td>2</td>\n",
       "    </tr>\n",
       "    <tr>\n",
       "      <th>3</th>\n",
       "      <td>1</td>\n",
       "      <td>3</td>\n",
       "      <td>Heikkinen, Miss. Laina</td>\n",
       "      <td>female</td>\n",
       "      <td>26.0</td>\n",
       "      <td>0</td>\n",
       "      <td>0</td>\n",
       "      <td>STON/O2. 3101282</td>\n",
       "      <td>7.9250</td>\n",
       "      <td>NaN</td>\n",
       "      <td>1</td>\n",
       "    </tr>\n",
       "    <tr>\n",
       "      <th>4</th>\n",
       "      <td>1</td>\n",
       "      <td>1</td>\n",
       "      <td>Futrelle, Mrs. Jacques Heath (Lily May Peel)</td>\n",
       "      <td>female</td>\n",
       "      <td>35.0</td>\n",
       "      <td>1</td>\n",
       "      <td>0</td>\n",
       "      <td>113803</td>\n",
       "      <td>53.1000</td>\n",
       "      <td>C123</td>\n",
       "      <td>1</td>\n",
       "    </tr>\n",
       "    <tr>\n",
       "      <th>5</th>\n",
       "      <td>0</td>\n",
       "      <td>3</td>\n",
       "      <td>Allen, Mr. William Henry</td>\n",
       "      <td>male</td>\n",
       "      <td>35.0</td>\n",
       "      <td>0</td>\n",
       "      <td>0</td>\n",
       "      <td>373450</td>\n",
       "      <td>8.0500</td>\n",
       "      <td>NaN</td>\n",
       "      <td>1</td>\n",
       "    </tr>\n",
       "  </tbody>\n",
       "</table>\n",
       "</div>"
      ],
      "text/plain": [
       "             Survived  Pclass  \\\n",
       "PassengerId                     \n",
       "1                   0       3   \n",
       "2                   1       1   \n",
       "3                   1       3   \n",
       "4                   1       1   \n",
       "5                   0       3   \n",
       "\n",
       "                                                          Name     Sex   Age  \\\n",
       "PassengerId                                                                    \n",
       "1                                      Braund, Mr. Owen Harris    male  22.0   \n",
       "2            Cumings, Mrs. John Bradley (Florence Briggs Th...  female  38.0   \n",
       "3                                       Heikkinen, Miss. Laina  female  26.0   \n",
       "4                 Futrelle, Mrs. Jacques Heath (Lily May Peel)  female  35.0   \n",
       "5                                     Allen, Mr. William Henry    male  35.0   \n",
       "\n",
       "             SibSp  Parch            Ticket     Fare Cabin  Embarked  \n",
       "PassengerId                                                           \n",
       "1                1      0         A/5 21171   7.2500   NaN         1  \n",
       "2                1      0          PC 17599  71.2833   C85         2  \n",
       "3                0      0  STON/O2. 3101282   7.9250   NaN         1  \n",
       "4                1      0            113803  53.1000  C123         1  \n",
       "5                0      0            373450   8.0500   NaN         1  "
      ]
     },
     "execution_count": 12,
     "metadata": {},
     "output_type": "execute_result"
    }
   ],
   "source": [
    "# transform Embarked Column to numeric.\n",
    "Embarked_transform_dict = {\"S\":1, \"C\":2, \"Q\":3}\n",
    "for value in Embarked_transform_dict:\n",
    "    df_train.Embarked.replace(value, Embarked_transform_dict.get(value), inplace=True)\n",
    "    df_test.Embarked.replace(value, Embarked_transform_dict.get(value), inplace=True)\n",
    "df_train.head(5)\n",
    "# we now finish cleaning and transform column Emvarked to numeric."
   ]
  },
  {
   "cell_type": "code",
   "execution_count": 13,
   "id": "ec957eb5",
   "metadata": {
    "execution": {
     "iopub.execute_input": "2021-07-31T00:08:33.216354Z",
     "iopub.status.busy": "2021-07-31T00:08:33.215492Z",
     "iopub.status.idle": "2021-07-31T00:08:33.219046Z",
     "shell.execute_reply": "2021-07-31T00:08:33.219582Z",
     "shell.execute_reply.started": "2021-07-31T00:03:46.310306Z"
    },
    "papermill": {
     "duration": 0.059087,
     "end_time": "2021-07-31T00:08:33.219766",
     "exception": false,
     "start_time": "2021-07-31T00:08:33.160679",
     "status": "completed"
    },
    "tags": []
   },
   "outputs": [
    {
     "name": "stdout",
     "output_type": "stream",
     "text": [
      "the number of null value in Cabin Column = 687\n"
     ]
    }
   ],
   "source": [
    "print(\"the number of null value in Cabin Column =\", df_train.Cabin.isnull().sum())\n",
    "# notes that null values is 687 from 891 (77%) of Cabin column is null, so i will droped it from data."
   ]
  },
  {
   "cell_type": "code",
   "execution_count": 14,
   "id": "5fb8682b",
   "metadata": {
    "execution": {
     "iopub.execute_input": "2021-07-31T00:08:33.325514Z",
     "iopub.status.busy": "2021-07-31T00:08:33.324813Z",
     "iopub.status.idle": "2021-07-31T00:08:33.351957Z",
     "shell.execute_reply": "2021-07-31T00:08:33.351296Z",
     "shell.execute_reply.started": "2021-07-31T00:03:46.327261Z"
    },
    "papermill": {
     "duration": 0.082561,
     "end_time": "2021-07-31T00:08:33.352112",
     "exception": false,
     "start_time": "2021-07-31T00:08:33.269551",
     "status": "completed"
    },
    "tags": []
   },
   "outputs": [
    {
     "data": {
      "text/html": [
       "<div>\n",
       "<style scoped>\n",
       "    .dataframe tbody tr th:only-of-type {\n",
       "        vertical-align: middle;\n",
       "    }\n",
       "\n",
       "    .dataframe tbody tr th {\n",
       "        vertical-align: top;\n",
       "    }\n",
       "\n",
       "    .dataframe thead th {\n",
       "        text-align: right;\n",
       "    }\n",
       "</style>\n",
       "<table border=\"1\" class=\"dataframe\">\n",
       "  <thead>\n",
       "    <tr style=\"text-align: right;\">\n",
       "      <th></th>\n",
       "      <th>Survived</th>\n",
       "      <th>Pclass</th>\n",
       "      <th>Name</th>\n",
       "      <th>Sex</th>\n",
       "      <th>Age</th>\n",
       "      <th>SibSp</th>\n",
       "      <th>Parch</th>\n",
       "      <th>Ticket</th>\n",
       "      <th>Fare</th>\n",
       "      <th>Embarked</th>\n",
       "    </tr>\n",
       "    <tr>\n",
       "      <th>PassengerId</th>\n",
       "      <th></th>\n",
       "      <th></th>\n",
       "      <th></th>\n",
       "      <th></th>\n",
       "      <th></th>\n",
       "      <th></th>\n",
       "      <th></th>\n",
       "      <th></th>\n",
       "      <th></th>\n",
       "      <th></th>\n",
       "    </tr>\n",
       "  </thead>\n",
       "  <tbody>\n",
       "    <tr>\n",
       "      <th>1</th>\n",
       "      <td>0</td>\n",
       "      <td>3</td>\n",
       "      <td>Braund, Mr. Owen Harris</td>\n",
       "      <td>male</td>\n",
       "      <td>22.0</td>\n",
       "      <td>1</td>\n",
       "      <td>0</td>\n",
       "      <td>A/5 21171</td>\n",
       "      <td>7.2500</td>\n",
       "      <td>1</td>\n",
       "    </tr>\n",
       "    <tr>\n",
       "      <th>2</th>\n",
       "      <td>1</td>\n",
       "      <td>1</td>\n",
       "      <td>Cumings, Mrs. John Bradley (Florence Briggs Th...</td>\n",
       "      <td>female</td>\n",
       "      <td>38.0</td>\n",
       "      <td>1</td>\n",
       "      <td>0</td>\n",
       "      <td>PC 17599</td>\n",
       "      <td>71.2833</td>\n",
       "      <td>2</td>\n",
       "    </tr>\n",
       "    <tr>\n",
       "      <th>3</th>\n",
       "      <td>1</td>\n",
       "      <td>3</td>\n",
       "      <td>Heikkinen, Miss. Laina</td>\n",
       "      <td>female</td>\n",
       "      <td>26.0</td>\n",
       "      <td>0</td>\n",
       "      <td>0</td>\n",
       "      <td>STON/O2. 3101282</td>\n",
       "      <td>7.9250</td>\n",
       "      <td>1</td>\n",
       "    </tr>\n",
       "    <tr>\n",
       "      <th>4</th>\n",
       "      <td>1</td>\n",
       "      <td>1</td>\n",
       "      <td>Futrelle, Mrs. Jacques Heath (Lily May Peel)</td>\n",
       "      <td>female</td>\n",
       "      <td>35.0</td>\n",
       "      <td>1</td>\n",
       "      <td>0</td>\n",
       "      <td>113803</td>\n",
       "      <td>53.1000</td>\n",
       "      <td>1</td>\n",
       "    </tr>\n",
       "    <tr>\n",
       "      <th>5</th>\n",
       "      <td>0</td>\n",
       "      <td>3</td>\n",
       "      <td>Allen, Mr. William Henry</td>\n",
       "      <td>male</td>\n",
       "      <td>35.0</td>\n",
       "      <td>0</td>\n",
       "      <td>0</td>\n",
       "      <td>373450</td>\n",
       "      <td>8.0500</td>\n",
       "      <td>1</td>\n",
       "    </tr>\n",
       "    <tr>\n",
       "      <th>...</th>\n",
       "      <td>...</td>\n",
       "      <td>...</td>\n",
       "      <td>...</td>\n",
       "      <td>...</td>\n",
       "      <td>...</td>\n",
       "      <td>...</td>\n",
       "      <td>...</td>\n",
       "      <td>...</td>\n",
       "      <td>...</td>\n",
       "      <td>...</td>\n",
       "    </tr>\n",
       "    <tr>\n",
       "      <th>887</th>\n",
       "      <td>0</td>\n",
       "      <td>2</td>\n",
       "      <td>Montvila, Rev. Juozas</td>\n",
       "      <td>male</td>\n",
       "      <td>27.0</td>\n",
       "      <td>0</td>\n",
       "      <td>0</td>\n",
       "      <td>211536</td>\n",
       "      <td>13.0000</td>\n",
       "      <td>1</td>\n",
       "    </tr>\n",
       "    <tr>\n",
       "      <th>888</th>\n",
       "      <td>1</td>\n",
       "      <td>1</td>\n",
       "      <td>Graham, Miss. Margaret Edith</td>\n",
       "      <td>female</td>\n",
       "      <td>19.0</td>\n",
       "      <td>0</td>\n",
       "      <td>0</td>\n",
       "      <td>112053</td>\n",
       "      <td>30.0000</td>\n",
       "      <td>1</td>\n",
       "    </tr>\n",
       "    <tr>\n",
       "      <th>889</th>\n",
       "      <td>0</td>\n",
       "      <td>3</td>\n",
       "      <td>Johnston, Miss. Catherine Helen \"Carrie\"</td>\n",
       "      <td>female</td>\n",
       "      <td>NaN</td>\n",
       "      <td>1</td>\n",
       "      <td>2</td>\n",
       "      <td>W./C. 6607</td>\n",
       "      <td>23.4500</td>\n",
       "      <td>1</td>\n",
       "    </tr>\n",
       "    <tr>\n",
       "      <th>890</th>\n",
       "      <td>1</td>\n",
       "      <td>1</td>\n",
       "      <td>Behr, Mr. Karl Howell</td>\n",
       "      <td>male</td>\n",
       "      <td>26.0</td>\n",
       "      <td>0</td>\n",
       "      <td>0</td>\n",
       "      <td>111369</td>\n",
       "      <td>30.0000</td>\n",
       "      <td>2</td>\n",
       "    </tr>\n",
       "    <tr>\n",
       "      <th>891</th>\n",
       "      <td>0</td>\n",
       "      <td>3</td>\n",
       "      <td>Dooley, Mr. Patrick</td>\n",
       "      <td>male</td>\n",
       "      <td>32.0</td>\n",
       "      <td>0</td>\n",
       "      <td>0</td>\n",
       "      <td>370376</td>\n",
       "      <td>7.7500</td>\n",
       "      <td>3</td>\n",
       "    </tr>\n",
       "  </tbody>\n",
       "</table>\n",
       "<p>891 rows × 10 columns</p>\n",
       "</div>"
      ],
      "text/plain": [
       "             Survived  Pclass  \\\n",
       "PassengerId                     \n",
       "1                   0       3   \n",
       "2                   1       1   \n",
       "3                   1       3   \n",
       "4                   1       1   \n",
       "5                   0       3   \n",
       "...               ...     ...   \n",
       "887                 0       2   \n",
       "888                 1       1   \n",
       "889                 0       3   \n",
       "890                 1       1   \n",
       "891                 0       3   \n",
       "\n",
       "                                                          Name     Sex   Age  \\\n",
       "PassengerId                                                                    \n",
       "1                                      Braund, Mr. Owen Harris    male  22.0   \n",
       "2            Cumings, Mrs. John Bradley (Florence Briggs Th...  female  38.0   \n",
       "3                                       Heikkinen, Miss. Laina  female  26.0   \n",
       "4                 Futrelle, Mrs. Jacques Heath (Lily May Peel)  female  35.0   \n",
       "5                                     Allen, Mr. William Henry    male  35.0   \n",
       "...                                                        ...     ...   ...   \n",
       "887                                      Montvila, Rev. Juozas    male  27.0   \n",
       "888                               Graham, Miss. Margaret Edith  female  19.0   \n",
       "889                   Johnston, Miss. Catherine Helen \"Carrie\"  female   NaN   \n",
       "890                                      Behr, Mr. Karl Howell    male  26.0   \n",
       "891                                        Dooley, Mr. Patrick    male  32.0   \n",
       "\n",
       "             SibSp  Parch            Ticket     Fare  Embarked  \n",
       "PassengerId                                                     \n",
       "1                1      0         A/5 21171   7.2500         1  \n",
       "2                1      0          PC 17599  71.2833         2  \n",
       "3                0      0  STON/O2. 3101282   7.9250         1  \n",
       "4                1      0            113803  53.1000         1  \n",
       "5                0      0            373450   8.0500         1  \n",
       "...            ...    ...               ...      ...       ...  \n",
       "887              0      0            211536  13.0000         1  \n",
       "888              0      0            112053  30.0000         1  \n",
       "889              1      2        W./C. 6607  23.4500         1  \n",
       "890              0      0            111369  30.0000         2  \n",
       "891              0      0            370376   7.7500         3  \n",
       "\n",
       "[891 rows x 10 columns]"
      ]
     },
     "execution_count": 14,
     "metadata": {},
     "output_type": "execute_result"
    }
   ],
   "source": [
    "df_train.drop(\"Cabin\", axis=1, inplace=True)\n",
    "df_test.drop(\"Cabin\", axis=1, inplace=True)\n",
    "\n",
    "df_train"
   ]
  },
  {
   "cell_type": "code",
   "execution_count": 15,
   "id": "c03bdde5",
   "metadata": {
    "execution": {
     "iopub.execute_input": "2021-07-31T00:08:33.459671Z",
     "iopub.status.busy": "2021-07-31T00:08:33.458630Z",
     "iopub.status.idle": "2021-07-31T00:08:33.463469Z",
     "shell.execute_reply": "2021-07-31T00:08:33.462816Z",
     "shell.execute_reply.started": "2021-07-31T00:03:46.359551Z"
    },
    "papermill": {
     "duration": 0.061156,
     "end_time": "2021-07-31T00:08:33.463617",
     "exception": false,
     "start_time": "2021-07-31T00:08:33.402461",
     "status": "completed"
    },
    "tags": []
   },
   "outputs": [
    {
     "name": "stdout",
     "output_type": "stream",
     "text": [
      "Range of Fare column values =  512.3292\n",
      "Range of Fare column values =  512.3292\n"
     ]
    }
   ],
   "source": [
    "# Enter to Fare column\n",
    "# calculate the range of value in Fare column.\n",
    "print(\"Range of Fare column values = \", df_train.Fare.max() - df_train.Fare.min())\n",
    "# min value is 0.0 and max value = 512.3292\n",
    "# i will divied this range to 10 sections.\n",
    "df_test.Fare.replace(np.nan, df_test.Fare.mean(), inplace=True)\n",
    "print(\"Range of Fare column values = \", df_test.Fare.max() - df_test.Fare.min())"
   ]
  },
  {
   "cell_type": "code",
   "execution_count": 16,
   "id": "abee0a23",
   "metadata": {
    "execution": {
     "iopub.execute_input": "2021-07-31T00:08:33.588950Z",
     "iopub.status.busy": "2021-07-31T00:08:33.588236Z",
     "iopub.status.idle": "2021-07-31T00:08:33.592428Z",
     "shell.execute_reply": "2021-07-31T00:08:33.592878Z",
     "shell.execute_reply.started": "2021-07-31T00:03:46.369082Z"
    },
    "papermill": {
     "duration": 0.078808,
     "end_time": "2021-07-31T00:08:33.593046",
     "exception": false,
     "start_time": "2021-07-31T00:08:33.514238",
     "status": "completed"
    },
    "tags": []
   },
   "outputs": [
    {
     "data": {
      "text/html": [
       "<div>\n",
       "<style scoped>\n",
       "    .dataframe tbody tr th:only-of-type {\n",
       "        vertical-align: middle;\n",
       "    }\n",
       "\n",
       "    .dataframe tbody tr th {\n",
       "        vertical-align: top;\n",
       "    }\n",
       "\n",
       "    .dataframe thead th {\n",
       "        text-align: right;\n",
       "    }\n",
       "</style>\n",
       "<table border=\"1\" class=\"dataframe\">\n",
       "  <thead>\n",
       "    <tr style=\"text-align: right;\">\n",
       "      <th></th>\n",
       "      <th>Pclass</th>\n",
       "      <th>Name</th>\n",
       "      <th>Sex</th>\n",
       "      <th>Age</th>\n",
       "      <th>SibSp</th>\n",
       "      <th>Parch</th>\n",
       "      <th>Ticket</th>\n",
       "      <th>Fare</th>\n",
       "      <th>Embarked</th>\n",
       "    </tr>\n",
       "    <tr>\n",
       "      <th>PassengerId</th>\n",
       "      <th></th>\n",
       "      <th></th>\n",
       "      <th></th>\n",
       "      <th></th>\n",
       "      <th></th>\n",
       "      <th></th>\n",
       "      <th></th>\n",
       "      <th></th>\n",
       "      <th></th>\n",
       "    </tr>\n",
       "  </thead>\n",
       "  <tbody>\n",
       "    <tr>\n",
       "      <th>892</th>\n",
       "      <td>3</td>\n",
       "      <td>Kelly, Mr. James</td>\n",
       "      <td>male</td>\n",
       "      <td>34.5</td>\n",
       "      <td>0</td>\n",
       "      <td>0</td>\n",
       "      <td>330911</td>\n",
       "      <td>7</td>\n",
       "      <td>3</td>\n",
       "    </tr>\n",
       "    <tr>\n",
       "      <th>893</th>\n",
       "      <td>3</td>\n",
       "      <td>Wilkes, Mrs. James (Ellen Needs)</td>\n",
       "      <td>female</td>\n",
       "      <td>47.0</td>\n",
       "      <td>1</td>\n",
       "      <td>0</td>\n",
       "      <td>363272</td>\n",
       "      <td>7</td>\n",
       "      <td>1</td>\n",
       "    </tr>\n",
       "    <tr>\n",
       "      <th>894</th>\n",
       "      <td>2</td>\n",
       "      <td>Myles, Mr. Thomas Francis</td>\n",
       "      <td>male</td>\n",
       "      <td>62.0</td>\n",
       "      <td>0</td>\n",
       "      <td>0</td>\n",
       "      <td>240276</td>\n",
       "      <td>9</td>\n",
       "      <td>3</td>\n",
       "    </tr>\n",
       "    <tr>\n",
       "      <th>895</th>\n",
       "      <td>3</td>\n",
       "      <td>Wirz, Mr. Albert</td>\n",
       "      <td>male</td>\n",
       "      <td>27.0</td>\n",
       "      <td>0</td>\n",
       "      <td>0</td>\n",
       "      <td>315154</td>\n",
       "      <td>8</td>\n",
       "      <td>1</td>\n",
       "    </tr>\n",
       "    <tr>\n",
       "      <th>896</th>\n",
       "      <td>3</td>\n",
       "      <td>Hirvonen, Mrs. Alexander (Helga E Lindqvist)</td>\n",
       "      <td>female</td>\n",
       "      <td>22.0</td>\n",
       "      <td>1</td>\n",
       "      <td>1</td>\n",
       "      <td>3101298</td>\n",
       "      <td>12</td>\n",
       "      <td>1</td>\n",
       "    </tr>\n",
       "    <tr>\n",
       "      <th>...</th>\n",
       "      <td>...</td>\n",
       "      <td>...</td>\n",
       "      <td>...</td>\n",
       "      <td>...</td>\n",
       "      <td>...</td>\n",
       "      <td>...</td>\n",
       "      <td>...</td>\n",
       "      <td>...</td>\n",
       "      <td>...</td>\n",
       "    </tr>\n",
       "    <tr>\n",
       "      <th>1305</th>\n",
       "      <td>3</td>\n",
       "      <td>Spector, Mr. Woolf</td>\n",
       "      <td>male</td>\n",
       "      <td>NaN</td>\n",
       "      <td>0</td>\n",
       "      <td>0</td>\n",
       "      <td>A.5. 3236</td>\n",
       "      <td>8</td>\n",
       "      <td>1</td>\n",
       "    </tr>\n",
       "    <tr>\n",
       "      <th>1306</th>\n",
       "      <td>1</td>\n",
       "      <td>Oliva y Ocana, Dona. Fermina</td>\n",
       "      <td>female</td>\n",
       "      <td>39.0</td>\n",
       "      <td>0</td>\n",
       "      <td>0</td>\n",
       "      <td>PC 17758</td>\n",
       "      <td>108</td>\n",
       "      <td>2</td>\n",
       "    </tr>\n",
       "    <tr>\n",
       "      <th>1307</th>\n",
       "      <td>3</td>\n",
       "      <td>Saether, Mr. Simon Sivertsen</td>\n",
       "      <td>male</td>\n",
       "      <td>38.5</td>\n",
       "      <td>0</td>\n",
       "      <td>0</td>\n",
       "      <td>SOTON/O.Q. 3101262</td>\n",
       "      <td>7</td>\n",
       "      <td>1</td>\n",
       "    </tr>\n",
       "    <tr>\n",
       "      <th>1308</th>\n",
       "      <td>3</td>\n",
       "      <td>Ware, Mr. Frederick</td>\n",
       "      <td>male</td>\n",
       "      <td>NaN</td>\n",
       "      <td>0</td>\n",
       "      <td>0</td>\n",
       "      <td>359309</td>\n",
       "      <td>8</td>\n",
       "      <td>1</td>\n",
       "    </tr>\n",
       "    <tr>\n",
       "      <th>1309</th>\n",
       "      <td>3</td>\n",
       "      <td>Peter, Master. Michael J</td>\n",
       "      <td>male</td>\n",
       "      <td>NaN</td>\n",
       "      <td>1</td>\n",
       "      <td>1</td>\n",
       "      <td>2668</td>\n",
       "      <td>22</td>\n",
       "      <td>2</td>\n",
       "    </tr>\n",
       "  </tbody>\n",
       "</table>\n",
       "<p>418 rows × 9 columns</p>\n",
       "</div>"
      ],
      "text/plain": [
       "             Pclass                                          Name     Sex  \\\n",
       "PassengerId                                                                 \n",
       "892               3                              Kelly, Mr. James    male   \n",
       "893               3              Wilkes, Mrs. James (Ellen Needs)  female   \n",
       "894               2                     Myles, Mr. Thomas Francis    male   \n",
       "895               3                              Wirz, Mr. Albert    male   \n",
       "896               3  Hirvonen, Mrs. Alexander (Helga E Lindqvist)  female   \n",
       "...             ...                                           ...     ...   \n",
       "1305              3                            Spector, Mr. Woolf    male   \n",
       "1306              1                  Oliva y Ocana, Dona. Fermina  female   \n",
       "1307              3                  Saether, Mr. Simon Sivertsen    male   \n",
       "1308              3                           Ware, Mr. Frederick    male   \n",
       "1309              3                      Peter, Master. Michael J    male   \n",
       "\n",
       "              Age  SibSp  Parch              Ticket  Fare  Embarked  \n",
       "PassengerId                                                          \n",
       "892          34.5      0      0              330911     7         3  \n",
       "893          47.0      1      0              363272     7         1  \n",
       "894          62.0      0      0              240276     9         3  \n",
       "895          27.0      0      0              315154     8         1  \n",
       "896          22.0      1      1             3101298    12         1  \n",
       "...           ...    ...    ...                 ...   ...       ...  \n",
       "1305          NaN      0      0           A.5. 3236     8         1  \n",
       "1306         39.0      0      0            PC 17758   108         2  \n",
       "1307         38.5      0      0  SOTON/O.Q. 3101262     7         1  \n",
       "1308          NaN      0      0              359309     8         1  \n",
       "1309          NaN      1      1                2668    22         2  \n",
       "\n",
       "[418 rows x 9 columns]"
      ]
     },
     "execution_count": 16,
     "metadata": {},
     "output_type": "execute_result"
    }
   ],
   "source": [
    "df_train.Fare = df_train.Fare.astype(\"int64\")\n",
    "df_test.Fare = df_test.Fare.astype(\"int64\")\n",
    "\n",
    "# df_train.info()\n",
    "df_test"
   ]
  },
  {
   "cell_type": "code",
   "execution_count": 17,
   "id": "4c98b47d",
   "metadata": {
    "execution": {
     "iopub.execute_input": "2021-07-31T00:08:33.713902Z",
     "iopub.status.busy": "2021-07-31T00:08:33.704138Z",
     "iopub.status.idle": "2021-07-31T00:08:33.718510Z",
     "shell.execute_reply": "2021-07-31T00:08:33.717982Z",
     "shell.execute_reply.started": "2021-07-31T00:03:46.393853Z"
    },
    "papermill": {
     "duration": 0.073791,
     "end_time": "2021-07-31T00:08:33.718640",
     "exception": false,
     "start_time": "2021-07-31T00:08:33.644849",
     "status": "completed"
    },
    "scrolled": true,
    "tags": []
   },
   "outputs": [
    {
     "data": {
      "text/plain": [
       "[1, 2, 6, 3, 5, 11, 4]\n",
       "Categories (7, int64): [1 < 2 < 3 < 4 < 5 < 6 < 11]"
      ]
     },
     "execution_count": 17,
     "metadata": {},
     "output_type": "execute_result"
    }
   ],
   "source": [
    "bins_i = [-1, 50, 100, 150, 200, 250, 300, 350, 400, 450, 500, 550]\n",
    "labels_i = [1,2,3,4,5,6,7,8,9,10,11]\n",
    "\n",
    "df_train['stage'] = 0\n",
    "df_train['stage'] = pd.cut(df_train.Fare, bins=bins_i, labels=labels_i)\n",
    "\n",
    "df_test['stage'] = 0\n",
    "df_test['stage'] = pd.cut(df_test.Fare, bins=bins_i, labels=labels_i)\n",
    "\n",
    "df_train.stage.unique()"
   ]
  },
  {
   "cell_type": "code",
   "execution_count": 18,
   "id": "84a447cd",
   "metadata": {
    "execution": {
     "iopub.execute_input": "2021-07-31T00:08:33.834731Z",
     "iopub.status.busy": "2021-07-31T00:08:33.831691Z",
     "iopub.status.idle": "2021-07-31T00:08:33.839500Z",
     "shell.execute_reply": "2021-07-31T00:08:33.838805Z",
     "shell.execute_reply.started": "2021-07-31T00:03:46.418464Z"
    },
    "papermill": {
     "duration": 0.068855,
     "end_time": "2021-07-31T00:08:33.839641",
     "exception": false,
     "start_time": "2021-07-31T00:08:33.770786",
     "status": "completed"
    },
    "tags": []
   },
   "outputs": [],
   "source": [
    "df_train.Fare = df_train.stage.astype(\"int64\")\n",
    "df_test.Fare = df_test.stage.astype(\"int64\")\n",
    "df_train.drop(\"stage\", axis=1, inplace=True)\n",
    "df_test.drop(\"stage\", axis=1, inplace=True)"
   ]
  },
  {
   "cell_type": "code",
   "execution_count": 19,
   "id": "6ba439f7",
   "metadata": {
    "execution": {
     "iopub.execute_input": "2021-07-31T00:08:33.958975Z",
     "iopub.status.busy": "2021-07-31T00:08:33.958033Z",
     "iopub.status.idle": "2021-07-31T00:08:33.962124Z",
     "shell.execute_reply": "2021-07-31T00:08:33.961627Z",
     "shell.execute_reply.started": "2021-07-31T00:03:46.431861Z"
    },
    "papermill": {
     "duration": 0.070026,
     "end_time": "2021-07-31T00:08:33.962265",
     "exception": false,
     "start_time": "2021-07-31T00:08:33.892239",
     "status": "completed"
    },
    "tags": []
   },
   "outputs": [
    {
     "data": {
      "text/html": [
       "<div>\n",
       "<style scoped>\n",
       "    .dataframe tbody tr th:only-of-type {\n",
       "        vertical-align: middle;\n",
       "    }\n",
       "\n",
       "    .dataframe tbody tr th {\n",
       "        vertical-align: top;\n",
       "    }\n",
       "\n",
       "    .dataframe thead th {\n",
       "        text-align: right;\n",
       "    }\n",
       "</style>\n",
       "<table border=\"1\" class=\"dataframe\">\n",
       "  <thead>\n",
       "    <tr style=\"text-align: right;\">\n",
       "      <th></th>\n",
       "      <th>Survived</th>\n",
       "      <th>Pclass</th>\n",
       "      <th>Name</th>\n",
       "      <th>Sex</th>\n",
       "      <th>Age</th>\n",
       "      <th>SibSp</th>\n",
       "      <th>Parch</th>\n",
       "      <th>Ticket</th>\n",
       "      <th>Fare</th>\n",
       "      <th>Embarked</th>\n",
       "    </tr>\n",
       "    <tr>\n",
       "      <th>PassengerId</th>\n",
       "      <th></th>\n",
       "      <th></th>\n",
       "      <th></th>\n",
       "      <th></th>\n",
       "      <th></th>\n",
       "      <th></th>\n",
       "      <th></th>\n",
       "      <th></th>\n",
       "      <th></th>\n",
       "      <th></th>\n",
       "    </tr>\n",
       "  </thead>\n",
       "  <tbody>\n",
       "    <tr>\n",
       "      <th>1</th>\n",
       "      <td>0</td>\n",
       "      <td>3</td>\n",
       "      <td>Braund, Mr. Owen Harris</td>\n",
       "      <td>male</td>\n",
       "      <td>22.0</td>\n",
       "      <td>1</td>\n",
       "      <td>0</td>\n",
       "      <td>A/5 21171</td>\n",
       "      <td>1</td>\n",
       "      <td>1</td>\n",
       "    </tr>\n",
       "    <tr>\n",
       "      <th>2</th>\n",
       "      <td>1</td>\n",
       "      <td>1</td>\n",
       "      <td>Cumings, Mrs. John Bradley (Florence Briggs Th...</td>\n",
       "      <td>female</td>\n",
       "      <td>38.0</td>\n",
       "      <td>1</td>\n",
       "      <td>0</td>\n",
       "      <td>PC 17599</td>\n",
       "      <td>2</td>\n",
       "      <td>2</td>\n",
       "    </tr>\n",
       "    <tr>\n",
       "      <th>3</th>\n",
       "      <td>1</td>\n",
       "      <td>3</td>\n",
       "      <td>Heikkinen, Miss. Laina</td>\n",
       "      <td>female</td>\n",
       "      <td>26.0</td>\n",
       "      <td>0</td>\n",
       "      <td>0</td>\n",
       "      <td>STON/O2. 3101282</td>\n",
       "      <td>1</td>\n",
       "      <td>1</td>\n",
       "    </tr>\n",
       "    <tr>\n",
       "      <th>4</th>\n",
       "      <td>1</td>\n",
       "      <td>1</td>\n",
       "      <td>Futrelle, Mrs. Jacques Heath (Lily May Peel)</td>\n",
       "      <td>female</td>\n",
       "      <td>35.0</td>\n",
       "      <td>1</td>\n",
       "      <td>0</td>\n",
       "      <td>113803</td>\n",
       "      <td>2</td>\n",
       "      <td>1</td>\n",
       "    </tr>\n",
       "    <tr>\n",
       "      <th>5</th>\n",
       "      <td>0</td>\n",
       "      <td>3</td>\n",
       "      <td>Allen, Mr. William Henry</td>\n",
       "      <td>male</td>\n",
       "      <td>35.0</td>\n",
       "      <td>0</td>\n",
       "      <td>0</td>\n",
       "      <td>373450</td>\n",
       "      <td>1</td>\n",
       "      <td>1</td>\n",
       "    </tr>\n",
       "  </tbody>\n",
       "</table>\n",
       "</div>"
      ],
      "text/plain": [
       "             Survived  Pclass  \\\n",
       "PassengerId                     \n",
       "1                   0       3   \n",
       "2                   1       1   \n",
       "3                   1       3   \n",
       "4                   1       1   \n",
       "5                   0       3   \n",
       "\n",
       "                                                          Name     Sex   Age  \\\n",
       "PassengerId                                                                    \n",
       "1                                      Braund, Mr. Owen Harris    male  22.0   \n",
       "2            Cumings, Mrs. John Bradley (Florence Briggs Th...  female  38.0   \n",
       "3                                       Heikkinen, Miss. Laina  female  26.0   \n",
       "4                 Futrelle, Mrs. Jacques Heath (Lily May Peel)  female  35.0   \n",
       "5                                     Allen, Mr. William Henry    male  35.0   \n",
       "\n",
       "             SibSp  Parch            Ticket  Fare  Embarked  \n",
       "PassengerId                                                  \n",
       "1                1      0         A/5 21171     1         1  \n",
       "2                1      0          PC 17599     2         2  \n",
       "3                0      0  STON/O2. 3101282     1         1  \n",
       "4                1      0            113803     2         1  \n",
       "5                0      0            373450     1         1  "
      ]
     },
     "execution_count": 19,
     "metadata": {},
     "output_type": "execute_result"
    }
   ],
   "source": [
    "df_train.head()"
   ]
  },
  {
   "cell_type": "code",
   "execution_count": 20,
   "id": "c76cbea6",
   "metadata": {
    "execution": {
     "iopub.execute_input": "2021-07-31T00:08:34.073637Z",
     "iopub.status.busy": "2021-07-31T00:08:34.072894Z",
     "iopub.status.idle": "2021-07-31T00:08:34.077019Z",
     "shell.execute_reply": "2021-07-31T00:08:34.076543Z",
     "shell.execute_reply.started": "2021-07-31T00:03:46.449967Z"
    },
    "papermill": {
     "duration": 0.062008,
     "end_time": "2021-07-31T00:08:34.077172",
     "exception": false,
     "start_time": "2021-07-31T00:08:34.015164",
     "status": "completed"
    },
    "tags": []
   },
   "outputs": [
    {
     "data": {
      "text/plain": [
       "array([ 1,  2,  6,  5,  4,  3, 11])"
      ]
     },
     "execution_count": 20,
     "metadata": {},
     "output_type": "execute_result"
    }
   ],
   "source": [
    "df_test.Fare.unique()"
   ]
  },
  {
   "cell_type": "code",
   "execution_count": 21,
   "id": "86af9055",
   "metadata": {
    "execution": {
     "iopub.execute_input": "2021-07-31T00:08:34.191162Z",
     "iopub.status.busy": "2021-07-31T00:08:34.190160Z",
     "iopub.status.idle": "2021-07-31T00:08:34.194232Z",
     "shell.execute_reply": "2021-07-31T00:08:34.193681Z",
     "shell.execute_reply.started": "2021-07-31T00:03:46.463188Z"
    },
    "papermill": {
     "duration": 0.064889,
     "end_time": "2021-07-31T00:08:34.194365",
     "exception": false,
     "start_time": "2021-07-31T00:08:34.129476",
     "status": "completed"
    },
    "tags": []
   },
   "outputs": [
    {
     "data": {
      "text/plain": [
       "array(['A/5 21171', 'PC 17599', 'STON/O2. 3101282', '113803', '373450',\n",
       "       '330877', '17463', '349909', '347742', '237736', 'PP 9549',\n",
       "       '113783', 'A/5. 2151', '347082', '350406', '248706', '382652',\n",
       "       '244373', '345763', '2649', '239865', '248698', '330923', '113788',\n",
       "       '347077', '2631', '19950', '330959', '349216', 'PC 17601',\n",
       "       'PC 17569', '335677', 'C.A. 24579', 'PC 17604', '113789', '2677',\n",
       "       'A./5. 2152', '345764', '2651', '7546', '11668', '349253',\n",
       "       'SC/Paris 2123', '330958', 'S.C./A.4. 23567', '370371', '14311',\n",
       "       '2662', '349237', '3101295', 'A/4. 39886', 'PC 17572', '2926',\n",
       "       '113509', '19947', 'C.A. 31026', '2697', 'C.A. 34651', 'CA 2144',\n",
       "       '2669', '113572', '36973', '347088', 'PC 17605', '2661',\n",
       "       'C.A. 29395', 'S.P. 3464', '3101281', '315151', 'C.A. 33111',\n",
       "       'S.O.C. 14879', '2680', '1601', '348123', '349208', '374746',\n",
       "       '248738', '364516', '345767', '345779', '330932', '113059',\n",
       "       'SO/C 14885', '3101278', 'W./C. 6608', 'SOTON/OQ 392086', '343275',\n",
       "       '343276', '347466', 'W.E.P. 5734', 'C.A. 2315', '364500', '374910',\n",
       "       'PC 17754', 'PC 17759', '231919', '244367', '349245', '349215',\n",
       "       '35281', '7540', '3101276', '349207', '343120', '312991', '349249',\n",
       "       '371110', '110465', '2665', '324669', '4136', '2627',\n",
       "       'STON/O 2. 3101294', '370369', 'PC 17558', 'A4. 54510', '27267',\n",
       "       '370372', 'C 17369', '2668', '347061', '349241',\n",
       "       'SOTON/O.Q. 3101307', 'A/5. 3337', '228414', 'C.A. 29178',\n",
       "       'SC/PARIS 2133', '11752', '7534', 'PC 17593', '2678', '347081',\n",
       "       'STON/O2. 3101279', '365222', '231945', 'C.A. 33112', '350043',\n",
       "       '230080', '244310', 'S.O.P. 1166', '113776', 'A.5. 11206',\n",
       "       'A/5. 851', 'Fa 265302', 'PC 17597', '35851', 'SOTON/OQ 392090',\n",
       "       '315037', 'CA. 2343', '371362', 'C.A. 33595', '347068', '315093',\n",
       "       '363291', '113505', 'PC 17318', '111240', 'STON/O 2. 3101280',\n",
       "       '17764', '350404', '4133', 'PC 17595', '250653', 'LINE',\n",
       "       'SC/PARIS 2131', '230136', '315153', '113767', '370365', '111428',\n",
       "       '364849', '349247', '234604', '28424', '350046', 'PC 17610',\n",
       "       '368703', '4579', '370370', '248747', '345770', '3101264', '2628',\n",
       "       'A/5 3540', '347054', '2699', '367231', '112277',\n",
       "       'SOTON/O.Q. 3101311', 'F.C.C. 13528', 'A/5 21174', '250646',\n",
       "       '367229', '35273', 'STON/O2. 3101283', '243847', '11813',\n",
       "       'W/C 14208', 'SOTON/OQ 392089', '220367', '21440', '349234',\n",
       "       '19943', 'PP 4348', 'SW/PP 751', 'A/5 21173', '236171', '347067',\n",
       "       '237442', 'C.A. 29566', 'W./C. 6609', '26707', 'C.A. 31921',\n",
       "       '28665', 'SCO/W 1585', '367230', 'W./C. 14263',\n",
       "       'STON/O 2. 3101275', '2694', '19928', '347071', '250649', '11751',\n",
       "       '244252', '362316', '113514', 'A/5. 3336', '370129', '2650',\n",
       "       'PC 17585', '110152', 'PC 17755', '230433', '384461', '110413',\n",
       "       '112059', '382649', 'C.A. 17248', '347083', 'PC 17582', 'PC 17760',\n",
       "       '113798', '250644', 'PC 17596', '370375', '13502', '347073',\n",
       "       '239853', 'C.A. 2673', '336439', '347464', '345778', 'A/5. 10482',\n",
       "       '113056', '349239', '345774', '349206', '237798', '370373',\n",
       "       '19877', '11967', 'SC/Paris 2163', '349236', '349233', 'PC 17612',\n",
       "       '2693', '113781', '19988', '9234', '367226', '226593', 'A/5 2466',\n",
       "       '17421', 'PC 17758', 'P/PP 3381', 'PC 17485', '11767', 'PC 17608',\n",
       "       '250651', '349243', 'F.C.C. 13529', '347470', '29011', '36928',\n",
       "       '16966', 'A/5 21172', '349219', '234818', '345364', '28551',\n",
       "       '111361', '113043', 'PC 17611', '349225', '7598', '113784',\n",
       "       '248740', '244361', '229236', '248733', '31418', '386525',\n",
       "       'C.A. 37671', '315088', '7267', '113510', '2695', '2647', '345783',\n",
       "       '237671', '330931', '330980', 'SC/PARIS 2167', '2691',\n",
       "       'SOTON/O.Q. 3101310', 'C 7076', '110813', '2626', '14313',\n",
       "       'PC 17477', '11765', '3101267', '323951', 'C 7077', '113503',\n",
       "       '2648', '347069', 'PC 17757', '2653', 'STON/O 2. 3101293',\n",
       "       '349227', '27849', '367655', 'SC 1748', '113760', '350034',\n",
       "       '3101277', '350052', '350407', '28403', '244278', '240929',\n",
       "       'STON/O 2. 3101289', '341826', '4137', '315096', '28664', '347064',\n",
       "       '29106', '312992', '349222', '394140', 'STON/O 2. 3101269',\n",
       "       '343095', '28220', '250652', '28228', '345773', '349254',\n",
       "       'A/5. 13032', '315082', '347080', 'A/4. 34244', '2003', '250655',\n",
       "       '364851', 'SOTON/O.Q. 392078', '110564', '376564', 'SC/AH 3085',\n",
       "       'STON/O 2. 3101274', '13507', 'C.A. 18723', '345769', '347076',\n",
       "       '230434', '65306', '33638', '113794', '2666', '113786', '65303',\n",
       "       '113051', '17453', 'A/5 2817', '349240', '13509', '17464',\n",
       "       'F.C.C. 13531', '371060', '19952', '364506', '111320', '234360',\n",
       "       'A/S 2816', 'SOTON/O.Q. 3101306', '113792', '36209', '323592',\n",
       "       '315089', 'SC/AH Basle 541', '7553', '31027', '3460', '350060',\n",
       "       '3101298', '239854', 'A/5 3594', '4134', '11771', 'A.5. 18509',\n",
       "       '65304', 'SOTON/OQ 3101317', '113787', 'PC 17609', 'A/4 45380',\n",
       "       '36947', 'C.A. 6212', '350035', '315086', '364846', '330909',\n",
       "       '4135', '26360', '111427', 'C 4001', '382651', 'SOTON/OQ 3101316',\n",
       "       'PC 17473', 'PC 17603', '349209', '36967', 'C.A. 34260', '226875',\n",
       "       '349242', '12749', '349252', '2624', '2700', '367232',\n",
       "       'W./C. 14258', 'PC 17483', '3101296', '29104', '2641', '2690',\n",
       "       '315084', '113050', 'PC 17761', '364498', '13568', 'WE/P 5735',\n",
       "       '2908', '693', 'SC/PARIS 2146', '244358', '330979', '2620',\n",
       "       '347085', '113807', '11755', '345572', '372622', '349251',\n",
       "       '218629', 'SOTON/OQ 392082', 'SOTON/O.Q. 392087', 'A/4 48871',\n",
       "       '349205', '2686', '350417', 'S.W./PP 752', '11769', 'PC 17474',\n",
       "       '14312', 'A/4. 20589', '358585', '243880', '2689',\n",
       "       'STON/O 2. 3101286', '237789', '13049', '3411', '237565', '13567',\n",
       "       '14973', 'A./5. 3235', 'STON/O 2. 3101273', 'A/5 3902', '364848',\n",
       "       'SC/AH 29037', '248727', '2664', '349214', '113796', '364511',\n",
       "       '111426', '349910', '349246', '113804', 'SOTON/O.Q. 3101305',\n",
       "       '370377', '364512', '220845', '31028', '2659', '11753', '350029',\n",
       "       '54636', '36963', '219533', '349224', '334912', '27042', '347743',\n",
       "       '13214', '112052', '237668', 'STON/O 2. 3101292', '350050',\n",
       "       '349231', '13213', 'S.O./P.P. 751', 'CA. 2314', '349221', '8475',\n",
       "       '330919', '365226', '349223', '29751', '2623', '5727', '349210',\n",
       "       'STON/O 2. 3101285', '234686', '312993', 'A/5 3536', '19996',\n",
       "       '29750', 'F.C. 12750', 'C.A. 24580', '244270', '239856', '349912',\n",
       "       '342826', '4138', '330935', '6563', '349228', '350036', '24160',\n",
       "       '17474', '349256', '2672', '113800', '248731', '363592', '35852',\n",
       "       '348121', 'PC 17475', '36864', '350025', '223596', 'PC 17476',\n",
       "       'PC 17482', '113028', '7545', '250647', '348124', '34218', '36568',\n",
       "       '347062', '350048', '12233', '250643', '113806', '315094', '36866',\n",
       "       '236853', 'STON/O2. 3101271', '239855', '28425', '233639',\n",
       "       '349201', '349218', '16988', '376566', 'STON/O 2. 3101288',\n",
       "       '250648', '113773', '335097', '29103', '392096', '345780',\n",
       "       '349204', '350042', '29108', '363294', 'SOTON/O2 3101272', '2663',\n",
       "       '347074', '112379', '364850', '8471', '345781', '350047',\n",
       "       'S.O./P.P. 3', '2674', '29105', '347078', '383121', '36865',\n",
       "       '2687', '113501', 'W./C. 6607', 'SOTON/O.Q. 3101312', '374887',\n",
       "       '3101265', '12460', 'PC 17600', '349203', '28213', '17465',\n",
       "       '349244', '2685', '2625', '347089', '347063', '112050', '347087',\n",
       "       '248723', '3474', '28206', '364499', '112058', 'STON/O2. 3101290',\n",
       "       'S.C./PARIS 2079', 'C 7075', '315098', '19972', '368323', '367228',\n",
       "       '2671', '347468', '2223', 'PC 17756', '315097', '392092', '11774',\n",
       "       'SOTON/O2 3101287', '2683', '315090', 'C.A. 5547', '349213',\n",
       "       '347060', 'PC 17592', '392091', '113055', '2629', '350026',\n",
       "       '28134', '17466', '233866', '236852', 'SC/PARIS 2149', 'PC 17590',\n",
       "       '345777', '349248', '695', '345765', '2667', '349212', '349217',\n",
       "       '349257', '7552', 'C.A./SOTON 34068', 'SOTON/OQ 392076', '211536',\n",
       "       '112053', '111369', '370376'], dtype=object)"
      ]
     },
     "execution_count": 21,
     "metadata": {},
     "output_type": "execute_result"
    }
   ],
   "source": [
    "df_train.Ticket.unique()"
   ]
  },
  {
   "cell_type": "code",
   "execution_count": 22,
   "id": "aee55ca3",
   "metadata": {
    "execution": {
     "iopub.execute_input": "2021-07-31T00:08:34.303354Z",
     "iopub.status.busy": "2021-07-31T00:08:34.302737Z",
     "iopub.status.idle": "2021-07-31T00:08:34.309979Z",
     "shell.execute_reply": "2021-07-31T00:08:34.309467Z",
     "shell.execute_reply.started": "2021-07-31T00:03:46.476646Z"
    },
    "papermill": {
     "duration": 0.062808,
     "end_time": "2021-07-31T00:08:34.310157",
     "exception": false,
     "start_time": "2021-07-31T00:08:34.247349",
     "status": "completed"
    },
    "tags": []
   },
   "outputs": [],
   "source": [
    "# i drop this column, because this is column is outlayer of data not need.\n",
    "df_train.drop(\"Ticket\", axis=1, inplace=True)\n",
    "df_test.drop(\"Ticket\", axis=1, inplace=True)"
   ]
  },
  {
   "cell_type": "code",
   "execution_count": 23,
   "id": "3b848d35",
   "metadata": {
    "execution": {
     "iopub.execute_input": "2021-07-31T00:08:34.430886Z",
     "iopub.status.busy": "2021-07-31T00:08:34.430208Z",
     "iopub.status.idle": "2021-07-31T00:08:34.434952Z",
     "shell.execute_reply": "2021-07-31T00:08:34.434420Z",
     "shell.execute_reply.started": "2021-07-31T00:03:46.492738Z"
    },
    "papermill": {
     "duration": 0.07209,
     "end_time": "2021-07-31T00:08:34.435088",
     "exception": false,
     "start_time": "2021-07-31T00:08:34.362998",
     "status": "completed"
    },
    "tags": []
   },
   "outputs": [
    {
     "data": {
      "text/html": [
       "<div>\n",
       "<style scoped>\n",
       "    .dataframe tbody tr th:only-of-type {\n",
       "        vertical-align: middle;\n",
       "    }\n",
       "\n",
       "    .dataframe tbody tr th {\n",
       "        vertical-align: top;\n",
       "    }\n",
       "\n",
       "    .dataframe thead th {\n",
       "        text-align: right;\n",
       "    }\n",
       "</style>\n",
       "<table border=\"1\" class=\"dataframe\">\n",
       "  <thead>\n",
       "    <tr style=\"text-align: right;\">\n",
       "      <th></th>\n",
       "      <th>Survived</th>\n",
       "      <th>Pclass</th>\n",
       "      <th>Name</th>\n",
       "      <th>Sex</th>\n",
       "      <th>Age</th>\n",
       "      <th>SibSp</th>\n",
       "      <th>Parch</th>\n",
       "      <th>Fare</th>\n",
       "      <th>Embarked</th>\n",
       "    </tr>\n",
       "    <tr>\n",
       "      <th>PassengerId</th>\n",
       "      <th></th>\n",
       "      <th></th>\n",
       "      <th></th>\n",
       "      <th></th>\n",
       "      <th></th>\n",
       "      <th></th>\n",
       "      <th></th>\n",
       "      <th></th>\n",
       "      <th></th>\n",
       "    </tr>\n",
       "  </thead>\n",
       "  <tbody>\n",
       "    <tr>\n",
       "      <th>1</th>\n",
       "      <td>0</td>\n",
       "      <td>3</td>\n",
       "      <td>Braund, Mr. Owen Harris</td>\n",
       "      <td>male</td>\n",
       "      <td>22.0</td>\n",
       "      <td>1</td>\n",
       "      <td>0</td>\n",
       "      <td>1</td>\n",
       "      <td>1</td>\n",
       "    </tr>\n",
       "    <tr>\n",
       "      <th>2</th>\n",
       "      <td>1</td>\n",
       "      <td>1</td>\n",
       "      <td>Cumings, Mrs. John Bradley (Florence Briggs Th...</td>\n",
       "      <td>female</td>\n",
       "      <td>38.0</td>\n",
       "      <td>1</td>\n",
       "      <td>0</td>\n",
       "      <td>2</td>\n",
       "      <td>2</td>\n",
       "    </tr>\n",
       "    <tr>\n",
       "      <th>3</th>\n",
       "      <td>1</td>\n",
       "      <td>3</td>\n",
       "      <td>Heikkinen, Miss. Laina</td>\n",
       "      <td>female</td>\n",
       "      <td>26.0</td>\n",
       "      <td>0</td>\n",
       "      <td>0</td>\n",
       "      <td>1</td>\n",
       "      <td>1</td>\n",
       "    </tr>\n",
       "    <tr>\n",
       "      <th>4</th>\n",
       "      <td>1</td>\n",
       "      <td>1</td>\n",
       "      <td>Futrelle, Mrs. Jacques Heath (Lily May Peel)</td>\n",
       "      <td>female</td>\n",
       "      <td>35.0</td>\n",
       "      <td>1</td>\n",
       "      <td>0</td>\n",
       "      <td>2</td>\n",
       "      <td>1</td>\n",
       "    </tr>\n",
       "    <tr>\n",
       "      <th>5</th>\n",
       "      <td>0</td>\n",
       "      <td>3</td>\n",
       "      <td>Allen, Mr. William Henry</td>\n",
       "      <td>male</td>\n",
       "      <td>35.0</td>\n",
       "      <td>0</td>\n",
       "      <td>0</td>\n",
       "      <td>1</td>\n",
       "      <td>1</td>\n",
       "    </tr>\n",
       "  </tbody>\n",
       "</table>\n",
       "</div>"
      ],
      "text/plain": [
       "             Survived  Pclass  \\\n",
       "PassengerId                     \n",
       "1                   0       3   \n",
       "2                   1       1   \n",
       "3                   1       3   \n",
       "4                   1       1   \n",
       "5                   0       3   \n",
       "\n",
       "                                                          Name     Sex   Age  \\\n",
       "PassengerId                                                                    \n",
       "1                                      Braund, Mr. Owen Harris    male  22.0   \n",
       "2            Cumings, Mrs. John Bradley (Florence Briggs Th...  female  38.0   \n",
       "3                                       Heikkinen, Miss. Laina  female  26.0   \n",
       "4                 Futrelle, Mrs. Jacques Heath (Lily May Peel)  female  35.0   \n",
       "5                                     Allen, Mr. William Henry    male  35.0   \n",
       "\n",
       "             SibSp  Parch  Fare  Embarked  \n",
       "PassengerId                                \n",
       "1                1      0     1         1  \n",
       "2                1      0     2         2  \n",
       "3                0      0     1         1  \n",
       "4                1      0     2         1  \n",
       "5                0      0     1         1  "
      ]
     },
     "execution_count": 23,
     "metadata": {},
     "output_type": "execute_result"
    }
   ],
   "source": [
    "df_train.head()"
   ]
  },
  {
   "cell_type": "code",
   "execution_count": 24,
   "id": "098b08cb",
   "metadata": {
    "execution": {
     "iopub.execute_input": "2021-07-31T00:08:34.562874Z",
     "iopub.status.busy": "2021-07-31T00:08:34.562208Z",
     "iopub.status.idle": "2021-07-31T00:08:34.567214Z",
     "shell.execute_reply": "2021-07-31T00:08:34.566685Z",
     "shell.execute_reply.started": "2021-07-31T00:03:46.511907Z"
    },
    "papermill": {
     "duration": 0.078603,
     "end_time": "2021-07-31T00:08:34.567349",
     "exception": false,
     "start_time": "2021-07-31T00:08:34.488746",
     "status": "completed"
    },
    "tags": []
   },
   "outputs": [
    {
     "data": {
      "text/html": [
       "<div>\n",
       "<style scoped>\n",
       "    .dataframe tbody tr th:only-of-type {\n",
       "        vertical-align: middle;\n",
       "    }\n",
       "\n",
       "    .dataframe tbody tr th {\n",
       "        vertical-align: top;\n",
       "    }\n",
       "\n",
       "    .dataframe thead th {\n",
       "        text-align: right;\n",
       "    }\n",
       "</style>\n",
       "<table border=\"1\" class=\"dataframe\">\n",
       "  <thead>\n",
       "    <tr style=\"text-align: right;\">\n",
       "      <th></th>\n",
       "      <th>Survived</th>\n",
       "      <th>Pclass</th>\n",
       "      <th>Name</th>\n",
       "      <th>Sex</th>\n",
       "      <th>Age</th>\n",
       "      <th>SibSp</th>\n",
       "      <th>Parch</th>\n",
       "      <th>Fare</th>\n",
       "      <th>Embarked</th>\n",
       "    </tr>\n",
       "    <tr>\n",
       "      <th>PassengerId</th>\n",
       "      <th></th>\n",
       "      <th></th>\n",
       "      <th></th>\n",
       "      <th></th>\n",
       "      <th></th>\n",
       "      <th></th>\n",
       "      <th></th>\n",
       "      <th></th>\n",
       "      <th></th>\n",
       "    </tr>\n",
       "  </thead>\n",
       "  <tbody>\n",
       "    <tr>\n",
       "      <th>1</th>\n",
       "      <td>0</td>\n",
       "      <td>3</td>\n",
       "      <td>Braund, Mr. Owen Harris</td>\n",
       "      <td>1</td>\n",
       "      <td>22.0</td>\n",
       "      <td>1</td>\n",
       "      <td>0</td>\n",
       "      <td>1</td>\n",
       "      <td>1</td>\n",
       "    </tr>\n",
       "    <tr>\n",
       "      <th>2</th>\n",
       "      <td>1</td>\n",
       "      <td>1</td>\n",
       "      <td>Cumings, Mrs. John Bradley (Florence Briggs Th...</td>\n",
       "      <td>2</td>\n",
       "      <td>38.0</td>\n",
       "      <td>1</td>\n",
       "      <td>0</td>\n",
       "      <td>2</td>\n",
       "      <td>2</td>\n",
       "    </tr>\n",
       "    <tr>\n",
       "      <th>3</th>\n",
       "      <td>1</td>\n",
       "      <td>3</td>\n",
       "      <td>Heikkinen, Miss. Laina</td>\n",
       "      <td>2</td>\n",
       "      <td>26.0</td>\n",
       "      <td>0</td>\n",
       "      <td>0</td>\n",
       "      <td>1</td>\n",
       "      <td>1</td>\n",
       "    </tr>\n",
       "    <tr>\n",
       "      <th>4</th>\n",
       "      <td>1</td>\n",
       "      <td>1</td>\n",
       "      <td>Futrelle, Mrs. Jacques Heath (Lily May Peel)</td>\n",
       "      <td>2</td>\n",
       "      <td>35.0</td>\n",
       "      <td>1</td>\n",
       "      <td>0</td>\n",
       "      <td>2</td>\n",
       "      <td>1</td>\n",
       "    </tr>\n",
       "    <tr>\n",
       "      <th>5</th>\n",
       "      <td>0</td>\n",
       "      <td>3</td>\n",
       "      <td>Allen, Mr. William Henry</td>\n",
       "      <td>1</td>\n",
       "      <td>35.0</td>\n",
       "      <td>0</td>\n",
       "      <td>0</td>\n",
       "      <td>1</td>\n",
       "      <td>1</td>\n",
       "    </tr>\n",
       "  </tbody>\n",
       "</table>\n",
       "</div>"
      ],
      "text/plain": [
       "             Survived  Pclass  \\\n",
       "PassengerId                     \n",
       "1                   0       3   \n",
       "2                   1       1   \n",
       "3                   1       3   \n",
       "4                   1       1   \n",
       "5                   0       3   \n",
       "\n",
       "                                                          Name  Sex   Age  \\\n",
       "PassengerId                                                                 \n",
       "1                                      Braund, Mr. Owen Harris    1  22.0   \n",
       "2            Cumings, Mrs. John Bradley (Florence Briggs Th...    2  38.0   \n",
       "3                                       Heikkinen, Miss. Laina    2  26.0   \n",
       "4                 Futrelle, Mrs. Jacques Heath (Lily May Peel)    2  35.0   \n",
       "5                                     Allen, Mr. William Henry    1  35.0   \n",
       "\n",
       "             SibSp  Parch  Fare  Embarked  \n",
       "PassengerId                                \n",
       "1                1      0     1         1  \n",
       "2                1      0     2         2  \n",
       "3                0      0     1         1  \n",
       "4                1      0     2         1  \n",
       "5                0      0     1         1  "
      ]
     },
     "execution_count": 24,
     "metadata": {},
     "output_type": "execute_result"
    }
   ],
   "source": [
    "# Sex column.\n",
    "Sex_dict = {\"male\":1, \"female\":2}\n",
    "for key, value in Sex_dict.items():\n",
    "    df_train.Sex.replace(key, value, inplace=True)\n",
    "    df_test.Sex.replace(key, value, inplace=True)\n",
    "df_train.Sex = df_train.Sex.astype(\"int64\")\n",
    "df_test.Sex = df_test.Sex.astype(\"int64\")\n",
    "df_train.head()"
   ]
  },
  {
   "cell_type": "code",
   "execution_count": 25,
   "id": "ff2ff0d3",
   "metadata": {
    "execution": {
     "iopub.execute_input": "2021-07-31T00:08:34.678487Z",
     "iopub.status.busy": "2021-07-31T00:08:34.677841Z",
     "iopub.status.idle": "2021-07-31T00:08:34.717288Z",
     "shell.execute_reply": "2021-07-31T00:08:34.716745Z",
     "shell.execute_reply.started": "2021-07-31T00:03:46.535135Z"
    },
    "papermill": {
     "duration": 0.096202,
     "end_time": "2021-07-31T00:08:34.717424",
     "exception": false,
     "start_time": "2021-07-31T00:08:34.621222",
     "status": "completed"
    },
    "tags": []
   },
   "outputs": [
    {
     "data": {
      "text/html": [
       "<div>\n",
       "<style scoped>\n",
       "    .dataframe tbody tr th:only-of-type {\n",
       "        vertical-align: middle;\n",
       "    }\n",
       "\n",
       "    .dataframe tbody tr th {\n",
       "        vertical-align: top;\n",
       "    }\n",
       "\n",
       "    .dataframe thead th {\n",
       "        text-align: right;\n",
       "    }\n",
       "</style>\n",
       "<table border=\"1\" class=\"dataframe\">\n",
       "  <thead>\n",
       "    <tr style=\"text-align: right;\">\n",
       "      <th></th>\n",
       "      <th>Survived</th>\n",
       "      <th>Pclass</th>\n",
       "      <th>Sex</th>\n",
       "      <th>Age</th>\n",
       "      <th>SibSp</th>\n",
       "      <th>Parch</th>\n",
       "      <th>Fare</th>\n",
       "      <th>Embarked</th>\n",
       "      <th>Title</th>\n",
       "    </tr>\n",
       "    <tr>\n",
       "      <th>PassengerId</th>\n",
       "      <th></th>\n",
       "      <th></th>\n",
       "      <th></th>\n",
       "      <th></th>\n",
       "      <th></th>\n",
       "      <th></th>\n",
       "      <th></th>\n",
       "      <th></th>\n",
       "      <th></th>\n",
       "    </tr>\n",
       "  </thead>\n",
       "  <tbody>\n",
       "    <tr>\n",
       "      <th>1</th>\n",
       "      <td>0</td>\n",
       "      <td>3</td>\n",
       "      <td>1</td>\n",
       "      <td>22.0</td>\n",
       "      <td>1</td>\n",
       "      <td>0</td>\n",
       "      <td>1</td>\n",
       "      <td>1</td>\n",
       "      <td>1</td>\n",
       "    </tr>\n",
       "    <tr>\n",
       "      <th>2</th>\n",
       "      <td>1</td>\n",
       "      <td>1</td>\n",
       "      <td>2</td>\n",
       "      <td>38.0</td>\n",
       "      <td>1</td>\n",
       "      <td>0</td>\n",
       "      <td>2</td>\n",
       "      <td>2</td>\n",
       "      <td>3</td>\n",
       "    </tr>\n",
       "    <tr>\n",
       "      <th>3</th>\n",
       "      <td>1</td>\n",
       "      <td>3</td>\n",
       "      <td>2</td>\n",
       "      <td>26.0</td>\n",
       "      <td>0</td>\n",
       "      <td>0</td>\n",
       "      <td>1</td>\n",
       "      <td>1</td>\n",
       "      <td>2</td>\n",
       "    </tr>\n",
       "    <tr>\n",
       "      <th>4</th>\n",
       "      <td>1</td>\n",
       "      <td>1</td>\n",
       "      <td>2</td>\n",
       "      <td>35.0</td>\n",
       "      <td>1</td>\n",
       "      <td>0</td>\n",
       "      <td>2</td>\n",
       "      <td>1</td>\n",
       "      <td>3</td>\n",
       "    </tr>\n",
       "    <tr>\n",
       "      <th>5</th>\n",
       "      <td>0</td>\n",
       "      <td>3</td>\n",
       "      <td>1</td>\n",
       "      <td>35.0</td>\n",
       "      <td>0</td>\n",
       "      <td>0</td>\n",
       "      <td>1</td>\n",
       "      <td>1</td>\n",
       "      <td>1</td>\n",
       "    </tr>\n",
       "    <tr>\n",
       "      <th>...</th>\n",
       "      <td>...</td>\n",
       "      <td>...</td>\n",
       "      <td>...</td>\n",
       "      <td>...</td>\n",
       "      <td>...</td>\n",
       "      <td>...</td>\n",
       "      <td>...</td>\n",
       "      <td>...</td>\n",
       "      <td>...</td>\n",
       "    </tr>\n",
       "    <tr>\n",
       "      <th>887</th>\n",
       "      <td>0</td>\n",
       "      <td>2</td>\n",
       "      <td>1</td>\n",
       "      <td>27.0</td>\n",
       "      <td>0</td>\n",
       "      <td>0</td>\n",
       "      <td>1</td>\n",
       "      <td>1</td>\n",
       "      <td>5</td>\n",
       "    </tr>\n",
       "    <tr>\n",
       "      <th>888</th>\n",
       "      <td>1</td>\n",
       "      <td>1</td>\n",
       "      <td>2</td>\n",
       "      <td>19.0</td>\n",
       "      <td>0</td>\n",
       "      <td>0</td>\n",
       "      <td>1</td>\n",
       "      <td>1</td>\n",
       "      <td>2</td>\n",
       "    </tr>\n",
       "    <tr>\n",
       "      <th>889</th>\n",
       "      <td>0</td>\n",
       "      <td>3</td>\n",
       "      <td>2</td>\n",
       "      <td>NaN</td>\n",
       "      <td>1</td>\n",
       "      <td>2</td>\n",
       "      <td>1</td>\n",
       "      <td>1</td>\n",
       "      <td>2</td>\n",
       "    </tr>\n",
       "    <tr>\n",
       "      <th>890</th>\n",
       "      <td>1</td>\n",
       "      <td>1</td>\n",
       "      <td>1</td>\n",
       "      <td>26.0</td>\n",
       "      <td>0</td>\n",
       "      <td>0</td>\n",
       "      <td>1</td>\n",
       "      <td>2</td>\n",
       "      <td>1</td>\n",
       "    </tr>\n",
       "    <tr>\n",
       "      <th>891</th>\n",
       "      <td>0</td>\n",
       "      <td>3</td>\n",
       "      <td>1</td>\n",
       "      <td>32.0</td>\n",
       "      <td>0</td>\n",
       "      <td>0</td>\n",
       "      <td>1</td>\n",
       "      <td>3</td>\n",
       "      <td>1</td>\n",
       "    </tr>\n",
       "  </tbody>\n",
       "</table>\n",
       "<p>891 rows × 9 columns</p>\n",
       "</div>"
      ],
      "text/plain": [
       "             Survived  Pclass  Sex   Age  SibSp  Parch  Fare  Embarked  Title\n",
       "PassengerId                                                                  \n",
       "1                   0       3    1  22.0      1      0     1         1      1\n",
       "2                   1       1    2  38.0      1      0     2         2      3\n",
       "3                   1       3    2  26.0      0      0     1         1      2\n",
       "4                   1       1    2  35.0      1      0     2         1      3\n",
       "5                   0       3    1  35.0      0      0     1         1      1\n",
       "...               ...     ...  ...   ...    ...    ...   ...       ...    ...\n",
       "887                 0       2    1  27.0      0      0     1         1      5\n",
       "888                 1       1    2  19.0      0      0     1         1      2\n",
       "889                 0       3    2   NaN      1      2     1         1      2\n",
       "890                 1       1    1  26.0      0      0     1         2      1\n",
       "891                 0       3    1  32.0      0      0     1         3      1\n",
       "\n",
       "[891 rows x 9 columns]"
      ]
     },
     "execution_count": 25,
     "metadata": {},
     "output_type": "execute_result"
    }
   ],
   "source": [
    "df_train[\"Title\"] = 0\n",
    "\n",
    "titles = {\"Mr\": 1, \"Miss\": 2, \"Mrs\": 3, \"Master\": 4, \"Rare\": 5}\n",
    "data = [df_train, df_test]\n",
    "for dataset in data:\n",
    "    # extract titles\n",
    "    dataset['Title'] = dataset.Name.str.extract(' ([A-Za-z]+)\\.', expand=False)\n",
    "    # replace titles with a more common title or as Rare\n",
    "    dataset['Title'] = dataset['Title'].replace(['Lady', 'Countess','Capt', 'Col','Don', 'Dr',\\\n",
    "                                            'Major', 'Rev', 'Sir', 'Jonkheer', 'Dona'], 'Rare')\n",
    "    dataset['Title'] = dataset['Title'].replace(['Mlle','Ms'], 'Miss')\n",
    "    dataset['Title'] = dataset['Title'].replace('Mme', 'Mrs')\n",
    "    # convert titles into numbers\n",
    "    dataset['Title'] = dataset['Title'].map(titles)\n",
    "    # filling NaN with 0, to get safe\n",
    "    dataset['Title'] = dataset['Title'].fillna(0)\n",
    "df_train = df_train.drop(['Name'], axis=1)\n",
    "df_test = df_test.drop(['Name'], axis=1)\n",
    "df_train"
   ]
  },
  {
   "cell_type": "code",
   "execution_count": 26,
   "id": "5b6d87a7",
   "metadata": {
    "execution": {
     "iopub.execute_input": "2021-07-31T00:08:34.835766Z",
     "iopub.status.busy": "2021-07-31T00:08:34.835126Z",
     "iopub.status.idle": "2021-07-31T00:08:34.839272Z",
     "shell.execute_reply": "2021-07-31T00:08:34.838782Z",
     "shell.execute_reply.started": "2021-07-31T00:03:46.578446Z"
    },
    "papermill": {
     "duration": 0.067011,
     "end_time": "2021-07-31T00:08:34.839411",
     "exception": false,
     "start_time": "2021-07-31T00:08:34.772400",
     "status": "completed"
    },
    "tags": []
   },
   "outputs": [
    {
     "data": {
      "text/plain": [
       "Survived      0\n",
       "Pclass        0\n",
       "Sex           0\n",
       "Age         177\n",
       "SibSp         0\n",
       "Parch         0\n",
       "Fare          0\n",
       "Embarked      0\n",
       "Title         0\n",
       "dtype: int64"
      ]
     },
     "execution_count": 26,
     "metadata": {},
     "output_type": "execute_result"
    }
   ],
   "source": [
    "df_train.isnull().sum()"
   ]
  },
  {
   "cell_type": "code",
   "execution_count": 27,
   "id": "b15ab711",
   "metadata": {
    "execution": {
     "iopub.execute_input": "2021-07-31T00:08:34.959051Z",
     "iopub.status.busy": "2021-07-31T00:08:34.958154Z",
     "iopub.status.idle": "2021-07-31T00:08:34.988756Z",
     "shell.execute_reply": "2021-07-31T00:08:34.988265Z",
     "shell.execute_reply.started": "2021-07-31T00:03:46.589229Z"
    },
    "papermill": {
     "duration": 0.09411,
     "end_time": "2021-07-31T00:08:34.988893",
     "exception": false,
     "start_time": "2021-07-31T00:08:34.894783",
     "status": "completed"
    },
    "tags": []
   },
   "outputs": [
    {
     "data": {
      "text/html": [
       "<div>\n",
       "<style scoped>\n",
       "    .dataframe tbody tr th:only-of-type {\n",
       "        vertical-align: middle;\n",
       "    }\n",
       "\n",
       "    .dataframe tbody tr th {\n",
       "        vertical-align: top;\n",
       "    }\n",
       "\n",
       "    .dataframe thead th {\n",
       "        text-align: right;\n",
       "    }\n",
       "</style>\n",
       "<table border=\"1\" class=\"dataframe\">\n",
       "  <thead>\n",
       "    <tr style=\"text-align: right;\">\n",
       "      <th></th>\n",
       "      <th>Survived</th>\n",
       "      <th>Pclass</th>\n",
       "      <th>Sex</th>\n",
       "      <th>Age</th>\n",
       "      <th>SibSp</th>\n",
       "      <th>Parch</th>\n",
       "      <th>Fare</th>\n",
       "      <th>Embarked</th>\n",
       "      <th>Title</th>\n",
       "    </tr>\n",
       "    <tr>\n",
       "      <th>PassengerId</th>\n",
       "      <th></th>\n",
       "      <th></th>\n",
       "      <th></th>\n",
       "      <th></th>\n",
       "      <th></th>\n",
       "      <th></th>\n",
       "      <th></th>\n",
       "      <th></th>\n",
       "      <th></th>\n",
       "    </tr>\n",
       "  </thead>\n",
       "  <tbody>\n",
       "    <tr>\n",
       "      <th>1</th>\n",
       "      <td>0</td>\n",
       "      <td>3</td>\n",
       "      <td>1</td>\n",
       "      <td>-0.530005</td>\n",
       "      <td>1</td>\n",
       "      <td>0</td>\n",
       "      <td>1</td>\n",
       "      <td>1</td>\n",
       "      <td>1</td>\n",
       "    </tr>\n",
       "    <tr>\n",
       "      <th>2</th>\n",
       "      <td>1</td>\n",
       "      <td>1</td>\n",
       "      <td>2</td>\n",
       "      <td>0.571430</td>\n",
       "      <td>1</td>\n",
       "      <td>0</td>\n",
       "      <td>2</td>\n",
       "      <td>2</td>\n",
       "      <td>3</td>\n",
       "    </tr>\n",
       "    <tr>\n",
       "      <th>3</th>\n",
       "      <td>1</td>\n",
       "      <td>3</td>\n",
       "      <td>2</td>\n",
       "      <td>-0.254646</td>\n",
       "      <td>0</td>\n",
       "      <td>0</td>\n",
       "      <td>1</td>\n",
       "      <td>1</td>\n",
       "      <td>2</td>\n",
       "    </tr>\n",
       "    <tr>\n",
       "      <th>4</th>\n",
       "      <td>1</td>\n",
       "      <td>1</td>\n",
       "      <td>2</td>\n",
       "      <td>0.364911</td>\n",
       "      <td>1</td>\n",
       "      <td>0</td>\n",
       "      <td>2</td>\n",
       "      <td>1</td>\n",
       "      <td>3</td>\n",
       "    </tr>\n",
       "    <tr>\n",
       "      <th>5</th>\n",
       "      <td>0</td>\n",
       "      <td>3</td>\n",
       "      <td>1</td>\n",
       "      <td>0.364911</td>\n",
       "      <td>0</td>\n",
       "      <td>0</td>\n",
       "      <td>1</td>\n",
       "      <td>1</td>\n",
       "      <td>1</td>\n",
       "    </tr>\n",
       "    <tr>\n",
       "      <th>...</th>\n",
       "      <td>...</td>\n",
       "      <td>...</td>\n",
       "      <td>...</td>\n",
       "      <td>...</td>\n",
       "      <td>...</td>\n",
       "      <td>...</td>\n",
       "      <td>...</td>\n",
       "      <td>...</td>\n",
       "      <td>...</td>\n",
       "    </tr>\n",
       "    <tr>\n",
       "      <th>886</th>\n",
       "      <td>0</td>\n",
       "      <td>3</td>\n",
       "      <td>2</td>\n",
       "      <td>0.640270</td>\n",
       "      <td>0</td>\n",
       "      <td>5</td>\n",
       "      <td>1</td>\n",
       "      <td>3</td>\n",
       "      <td>3</td>\n",
       "    </tr>\n",
       "    <tr>\n",
       "      <th>887</th>\n",
       "      <td>0</td>\n",
       "      <td>2</td>\n",
       "      <td>1</td>\n",
       "      <td>-0.185807</td>\n",
       "      <td>0</td>\n",
       "      <td>0</td>\n",
       "      <td>1</td>\n",
       "      <td>1</td>\n",
       "      <td>5</td>\n",
       "    </tr>\n",
       "    <tr>\n",
       "      <th>888</th>\n",
       "      <td>1</td>\n",
       "      <td>1</td>\n",
       "      <td>2</td>\n",
       "      <td>-0.736524</td>\n",
       "      <td>0</td>\n",
       "      <td>0</td>\n",
       "      <td>1</td>\n",
       "      <td>1</td>\n",
       "      <td>2</td>\n",
       "    </tr>\n",
       "    <tr>\n",
       "      <th>890</th>\n",
       "      <td>1</td>\n",
       "      <td>1</td>\n",
       "      <td>1</td>\n",
       "      <td>-0.254646</td>\n",
       "      <td>0</td>\n",
       "      <td>0</td>\n",
       "      <td>1</td>\n",
       "      <td>2</td>\n",
       "      <td>1</td>\n",
       "    </tr>\n",
       "    <tr>\n",
       "      <th>891</th>\n",
       "      <td>0</td>\n",
       "      <td>3</td>\n",
       "      <td>1</td>\n",
       "      <td>0.158392</td>\n",
       "      <td>0</td>\n",
       "      <td>0</td>\n",
       "      <td>1</td>\n",
       "      <td>3</td>\n",
       "      <td>1</td>\n",
       "    </tr>\n",
       "  </tbody>\n",
       "</table>\n",
       "<p>714 rows × 9 columns</p>\n",
       "</div>"
      ],
      "text/plain": [
       "             Survived  Pclass  Sex       Age  SibSp  Parch  Fare  Embarked  \\\n",
       "PassengerId                                                                  \n",
       "1                   0       3    1 -0.530005      1      0     1         1   \n",
       "2                   1       1    2  0.571430      1      0     2         2   \n",
       "3                   1       3    2 -0.254646      0      0     1         1   \n",
       "4                   1       1    2  0.364911      1      0     2         1   \n",
       "5                   0       3    1  0.364911      0      0     1         1   \n",
       "...               ...     ...  ...       ...    ...    ...   ...       ...   \n",
       "886                 0       3    2  0.640270      0      5     1         3   \n",
       "887                 0       2    1 -0.185807      0      0     1         1   \n",
       "888                 1       1    2 -0.736524      0      0     1         1   \n",
       "890                 1       1    1 -0.254646      0      0     1         2   \n",
       "891                 0       3    1  0.158392      0      0     1         3   \n",
       "\n",
       "             Title  \n",
       "PassengerId         \n",
       "1                1  \n",
       "2                3  \n",
       "3                2  \n",
       "4                3  \n",
       "5                1  \n",
       "...            ...  \n",
       "886              3  \n",
       "887              5  \n",
       "888              2  \n",
       "890              1  \n",
       "891              1  \n",
       "\n",
       "[714 rows x 9 columns]"
      ]
     },
     "execution_count": 27,
     "metadata": {},
     "output_type": "execute_result"
    }
   ],
   "source": [
    "df_Age_train = df_train.loc[pd.notna(df_train.Age)]\n",
    "df_Age_train.Age = df_Age_train.Age.astype(\"float64\")\n",
    "df_Age_train.Age = (df_Age_train.Age - df_Age_train.Age.mean()) / df_Age_train.Age.std()\n",
    "df_Age_train"
   ]
  },
  {
   "cell_type": "code",
   "execution_count": 28,
   "id": "0b9ca43b",
   "metadata": {
    "execution": {
     "iopub.execute_input": "2021-07-31T00:08:35.104215Z",
     "iopub.status.busy": "2021-07-31T00:08:35.103486Z",
     "iopub.status.idle": "2021-07-31T00:08:35.113035Z",
     "shell.execute_reply": "2021-07-31T00:08:35.113551Z",
     "shell.execute_reply.started": "2021-07-31T00:03:46.628768Z"
    },
    "papermill": {
     "duration": 0.068901,
     "end_time": "2021-07-31T00:08:35.113716",
     "exception": false,
     "start_time": "2021-07-31T00:08:35.044815",
     "status": "completed"
    },
    "tags": []
   },
   "outputs": [
    {
     "data": {
      "text/plain": [
       "-0.07722109457217771"
      ]
     },
     "execution_count": 28,
     "metadata": {},
     "output_type": "execute_result"
    }
   ],
   "source": [
    "df_Age_train.Survived.corr(df_Age_train.Age)\n",
    "# so i will drop Age column, because it is correlation between Age and Survived is very small."
   ]
  },
  {
   "cell_type": "code",
   "execution_count": 29,
   "id": "d0a4a933",
   "metadata": {
    "execution": {
     "iopub.execute_input": "2021-07-31T00:08:35.264807Z",
     "iopub.status.busy": "2021-07-31T00:08:35.263825Z",
     "iopub.status.idle": "2021-07-31T00:08:35.268941Z",
     "shell.execute_reply": "2021-07-31T00:08:35.268337Z",
     "shell.execute_reply.started": "2021-07-31T00:03:46.640271Z"
    },
    "papermill": {
     "duration": 0.087336,
     "end_time": "2021-07-31T00:08:35.269086",
     "exception": false,
     "start_time": "2021-07-31T00:08:35.181750",
     "status": "completed"
    },
    "tags": []
   },
   "outputs": [
    {
     "data": {
      "text/html": [
       "<div>\n",
       "<style scoped>\n",
       "    .dataframe tbody tr th:only-of-type {\n",
       "        vertical-align: middle;\n",
       "    }\n",
       "\n",
       "    .dataframe tbody tr th {\n",
       "        vertical-align: top;\n",
       "    }\n",
       "\n",
       "    .dataframe thead th {\n",
       "        text-align: right;\n",
       "    }\n",
       "</style>\n",
       "<table border=\"1\" class=\"dataframe\">\n",
       "  <thead>\n",
       "    <tr style=\"text-align: right;\">\n",
       "      <th></th>\n",
       "      <th>Survived</th>\n",
       "      <th>Pclass</th>\n",
       "      <th>Sex</th>\n",
       "      <th>SibSp</th>\n",
       "      <th>Parch</th>\n",
       "      <th>Fare</th>\n",
       "      <th>Embarked</th>\n",
       "      <th>Title</th>\n",
       "    </tr>\n",
       "    <tr>\n",
       "      <th>PassengerId</th>\n",
       "      <th></th>\n",
       "      <th></th>\n",
       "      <th></th>\n",
       "      <th></th>\n",
       "      <th></th>\n",
       "      <th></th>\n",
       "      <th></th>\n",
       "      <th></th>\n",
       "    </tr>\n",
       "  </thead>\n",
       "  <tbody>\n",
       "    <tr>\n",
       "      <th>1</th>\n",
       "      <td>0</td>\n",
       "      <td>3</td>\n",
       "      <td>1</td>\n",
       "      <td>1</td>\n",
       "      <td>0</td>\n",
       "      <td>1</td>\n",
       "      <td>1</td>\n",
       "      <td>1</td>\n",
       "    </tr>\n",
       "    <tr>\n",
       "      <th>2</th>\n",
       "      <td>1</td>\n",
       "      <td>1</td>\n",
       "      <td>2</td>\n",
       "      <td>1</td>\n",
       "      <td>0</td>\n",
       "      <td>2</td>\n",
       "      <td>2</td>\n",
       "      <td>3</td>\n",
       "    </tr>\n",
       "    <tr>\n",
       "      <th>3</th>\n",
       "      <td>1</td>\n",
       "      <td>3</td>\n",
       "      <td>2</td>\n",
       "      <td>0</td>\n",
       "      <td>0</td>\n",
       "      <td>1</td>\n",
       "      <td>1</td>\n",
       "      <td>2</td>\n",
       "    </tr>\n",
       "    <tr>\n",
       "      <th>4</th>\n",
       "      <td>1</td>\n",
       "      <td>1</td>\n",
       "      <td>2</td>\n",
       "      <td>1</td>\n",
       "      <td>0</td>\n",
       "      <td>2</td>\n",
       "      <td>1</td>\n",
       "      <td>3</td>\n",
       "    </tr>\n",
       "    <tr>\n",
       "      <th>5</th>\n",
       "      <td>0</td>\n",
       "      <td>3</td>\n",
       "      <td>1</td>\n",
       "      <td>0</td>\n",
       "      <td>0</td>\n",
       "      <td>1</td>\n",
       "      <td>1</td>\n",
       "      <td>1</td>\n",
       "    </tr>\n",
       "    <tr>\n",
       "      <th>...</th>\n",
       "      <td>...</td>\n",
       "      <td>...</td>\n",
       "      <td>...</td>\n",
       "      <td>...</td>\n",
       "      <td>...</td>\n",
       "      <td>...</td>\n",
       "      <td>...</td>\n",
       "      <td>...</td>\n",
       "    </tr>\n",
       "    <tr>\n",
       "      <th>887</th>\n",
       "      <td>0</td>\n",
       "      <td>2</td>\n",
       "      <td>1</td>\n",
       "      <td>0</td>\n",
       "      <td>0</td>\n",
       "      <td>1</td>\n",
       "      <td>1</td>\n",
       "      <td>5</td>\n",
       "    </tr>\n",
       "    <tr>\n",
       "      <th>888</th>\n",
       "      <td>1</td>\n",
       "      <td>1</td>\n",
       "      <td>2</td>\n",
       "      <td>0</td>\n",
       "      <td>0</td>\n",
       "      <td>1</td>\n",
       "      <td>1</td>\n",
       "      <td>2</td>\n",
       "    </tr>\n",
       "    <tr>\n",
       "      <th>889</th>\n",
       "      <td>0</td>\n",
       "      <td>3</td>\n",
       "      <td>2</td>\n",
       "      <td>1</td>\n",
       "      <td>2</td>\n",
       "      <td>1</td>\n",
       "      <td>1</td>\n",
       "      <td>2</td>\n",
       "    </tr>\n",
       "    <tr>\n",
       "      <th>890</th>\n",
       "      <td>1</td>\n",
       "      <td>1</td>\n",
       "      <td>1</td>\n",
       "      <td>0</td>\n",
       "      <td>0</td>\n",
       "      <td>1</td>\n",
       "      <td>2</td>\n",
       "      <td>1</td>\n",
       "    </tr>\n",
       "    <tr>\n",
       "      <th>891</th>\n",
       "      <td>0</td>\n",
       "      <td>3</td>\n",
       "      <td>1</td>\n",
       "      <td>0</td>\n",
       "      <td>0</td>\n",
       "      <td>1</td>\n",
       "      <td>3</td>\n",
       "      <td>1</td>\n",
       "    </tr>\n",
       "  </tbody>\n",
       "</table>\n",
       "<p>891 rows × 8 columns</p>\n",
       "</div>"
      ],
      "text/plain": [
       "             Survived  Pclass  Sex  SibSp  Parch  Fare  Embarked  Title\n",
       "PassengerId                                                            \n",
       "1                   0       3    1      1      0     1         1      1\n",
       "2                   1       1    2      1      0     2         2      3\n",
       "3                   1       3    2      0      0     1         1      2\n",
       "4                   1       1    2      1      0     2         1      3\n",
       "5                   0       3    1      0      0     1         1      1\n",
       "...               ...     ...  ...    ...    ...   ...       ...    ...\n",
       "887                 0       2    1      0      0     1         1      5\n",
       "888                 1       1    2      0      0     1         1      2\n",
       "889                 0       3    2      1      2     1         1      2\n",
       "890                 1       1    1      0      0     1         2      1\n",
       "891                 0       3    1      0      0     1         3      1\n",
       "\n",
       "[891 rows x 8 columns]"
      ]
     },
     "execution_count": 29,
     "metadata": {},
     "output_type": "execute_result"
    }
   ],
   "source": [
    "df_train.drop(\"Age\", axis=1, inplace=True)\n",
    "df_test.drop(\"Age\", axis=1, inplace=True)\n",
    "df_train"
   ]
  },
  {
   "cell_type": "code",
   "execution_count": 30,
   "id": "6519a1b8",
   "metadata": {
    "execution": {
     "iopub.execute_input": "2021-07-31T00:08:35.400125Z",
     "iopub.status.busy": "2021-07-31T00:08:35.399179Z",
     "iopub.status.idle": "2021-07-31T00:08:35.414388Z",
     "shell.execute_reply": "2021-07-31T00:08:35.413858Z",
     "shell.execute_reply.started": "2021-07-31T00:03:46.659399Z"
    },
    "papermill": {
     "duration": 0.088343,
     "end_time": "2021-07-31T00:08:35.414532",
     "exception": false,
     "start_time": "2021-07-31T00:08:35.326189",
     "status": "completed"
    },
    "tags": []
   },
   "outputs": [
    {
     "data": {
      "text/html": [
       "<div>\n",
       "<style scoped>\n",
       "    .dataframe tbody tr th:only-of-type {\n",
       "        vertical-align: middle;\n",
       "    }\n",
       "\n",
       "    .dataframe tbody tr th {\n",
       "        vertical-align: top;\n",
       "    }\n",
       "\n",
       "    .dataframe thead th {\n",
       "        text-align: right;\n",
       "    }\n",
       "</style>\n",
       "<table border=\"1\" class=\"dataframe\">\n",
       "  <thead>\n",
       "    <tr style=\"text-align: right;\">\n",
       "      <th></th>\n",
       "      <th>Pclass</th>\n",
       "      <th>Sex</th>\n",
       "      <th>SibSp</th>\n",
       "      <th>Parch</th>\n",
       "      <th>Fare</th>\n",
       "      <th>Embarked</th>\n",
       "      <th>Title</th>\n",
       "    </tr>\n",
       "    <tr>\n",
       "      <th>PassengerId</th>\n",
       "      <th></th>\n",
       "      <th></th>\n",
       "      <th></th>\n",
       "      <th></th>\n",
       "      <th></th>\n",
       "      <th></th>\n",
       "      <th></th>\n",
       "    </tr>\n",
       "  </thead>\n",
       "  <tbody>\n",
       "    <tr>\n",
       "      <th>892</th>\n",
       "      <td>3</td>\n",
       "      <td>1</td>\n",
       "      <td>0</td>\n",
       "      <td>0</td>\n",
       "      <td>1</td>\n",
       "      <td>3</td>\n",
       "      <td>1</td>\n",
       "    </tr>\n",
       "    <tr>\n",
       "      <th>893</th>\n",
       "      <td>3</td>\n",
       "      <td>2</td>\n",
       "      <td>1</td>\n",
       "      <td>0</td>\n",
       "      <td>1</td>\n",
       "      <td>1</td>\n",
       "      <td>3</td>\n",
       "    </tr>\n",
       "    <tr>\n",
       "      <th>894</th>\n",
       "      <td>2</td>\n",
       "      <td>1</td>\n",
       "      <td>0</td>\n",
       "      <td>0</td>\n",
       "      <td>1</td>\n",
       "      <td>3</td>\n",
       "      <td>1</td>\n",
       "    </tr>\n",
       "    <tr>\n",
       "      <th>895</th>\n",
       "      <td>3</td>\n",
       "      <td>1</td>\n",
       "      <td>0</td>\n",
       "      <td>0</td>\n",
       "      <td>1</td>\n",
       "      <td>1</td>\n",
       "      <td>1</td>\n",
       "    </tr>\n",
       "    <tr>\n",
       "      <th>896</th>\n",
       "      <td>3</td>\n",
       "      <td>2</td>\n",
       "      <td>1</td>\n",
       "      <td>1</td>\n",
       "      <td>1</td>\n",
       "      <td>1</td>\n",
       "      <td>3</td>\n",
       "    </tr>\n",
       "    <tr>\n",
       "      <th>...</th>\n",
       "      <td>...</td>\n",
       "      <td>...</td>\n",
       "      <td>...</td>\n",
       "      <td>...</td>\n",
       "      <td>...</td>\n",
       "      <td>...</td>\n",
       "      <td>...</td>\n",
       "    </tr>\n",
       "    <tr>\n",
       "      <th>1305</th>\n",
       "      <td>3</td>\n",
       "      <td>1</td>\n",
       "      <td>0</td>\n",
       "      <td>0</td>\n",
       "      <td>1</td>\n",
       "      <td>1</td>\n",
       "      <td>1</td>\n",
       "    </tr>\n",
       "    <tr>\n",
       "      <th>1306</th>\n",
       "      <td>1</td>\n",
       "      <td>2</td>\n",
       "      <td>0</td>\n",
       "      <td>0</td>\n",
       "      <td>3</td>\n",
       "      <td>2</td>\n",
       "      <td>5</td>\n",
       "    </tr>\n",
       "    <tr>\n",
       "      <th>1307</th>\n",
       "      <td>3</td>\n",
       "      <td>1</td>\n",
       "      <td>0</td>\n",
       "      <td>0</td>\n",
       "      <td>1</td>\n",
       "      <td>1</td>\n",
       "      <td>1</td>\n",
       "    </tr>\n",
       "    <tr>\n",
       "      <th>1308</th>\n",
       "      <td>3</td>\n",
       "      <td>1</td>\n",
       "      <td>0</td>\n",
       "      <td>0</td>\n",
       "      <td>1</td>\n",
       "      <td>1</td>\n",
       "      <td>1</td>\n",
       "    </tr>\n",
       "    <tr>\n",
       "      <th>1309</th>\n",
       "      <td>3</td>\n",
       "      <td>1</td>\n",
       "      <td>1</td>\n",
       "      <td>1</td>\n",
       "      <td>1</td>\n",
       "      <td>2</td>\n",
       "      <td>4</td>\n",
       "    </tr>\n",
       "  </tbody>\n",
       "</table>\n",
       "<p>418 rows × 7 columns</p>\n",
       "</div>"
      ],
      "text/plain": [
       "             Pclass  Sex  SibSp  Parch  Fare  Embarked  Title\n",
       "PassengerId                                                  \n",
       "892               3    1      0      0     1         3      1\n",
       "893               3    2      1      0     1         1      3\n",
       "894               2    1      0      0     1         3      1\n",
       "895               3    1      0      0     1         1      1\n",
       "896               3    2      1      1     1         1      3\n",
       "...             ...  ...    ...    ...   ...       ...    ...\n",
       "1305              3    1      0      0     1         1      1\n",
       "1306              1    2      0      0     3         2      5\n",
       "1307              3    1      0      0     1         1      1\n",
       "1308              3    1      0      0     1         1      1\n",
       "1309              3    1      1      1     1         2      4\n",
       "\n",
       "[418 rows x 7 columns]"
      ]
     },
     "execution_count": 30,
     "metadata": {},
     "output_type": "execute_result"
    }
   ],
   "source": [
    "df_test"
   ]
  },
  {
   "cell_type": "code",
   "execution_count": 31,
   "id": "4ea4d6a1",
   "metadata": {
    "execution": {
     "iopub.execute_input": "2021-07-31T00:08:35.547221Z",
     "iopub.status.busy": "2021-07-31T00:08:35.546152Z",
     "iopub.status.idle": "2021-07-31T00:08:35.549325Z",
     "shell.execute_reply": "2021-07-31T00:08:35.548791Z",
     "shell.execute_reply.started": "2021-07-31T00:03:46.678094Z"
    },
    "papermill": {
     "duration": 0.070558,
     "end_time": "2021-07-31T00:08:35.549597",
     "exception": false,
     "start_time": "2021-07-31T00:08:35.479039",
     "status": "completed"
    },
    "tags": []
   },
   "outputs": [],
   "source": [
    "data = [df_train, df_test]\n",
    "for dataset in data:\n",
    "    dataset['FamilySize'] = dataset['SibSp'] +  dataset['Parch'] + 1"
   ]
  },
  {
   "cell_type": "code",
   "execution_count": 32,
   "id": "ebdf364f",
   "metadata": {
    "execution": {
     "iopub.execute_input": "2021-07-31T00:08:35.679953Z",
     "iopub.status.busy": "2021-07-31T00:08:35.679300Z",
     "iopub.status.idle": "2021-07-31T00:08:35.692257Z",
     "shell.execute_reply": "2021-07-31T00:08:35.691178Z",
     "shell.execute_reply.started": "2021-07-31T00:03:46.691495Z"
    },
    "papermill": {
     "duration": 0.081277,
     "end_time": "2021-07-31T00:08:35.692510",
     "exception": false,
     "start_time": "2021-07-31T00:08:35.611233",
     "status": "completed"
    },
    "tags": []
   },
   "outputs": [
    {
     "name": "stdout",
     "output_type": "stream",
     "text": [
      "   IsAlone  Survived\n",
      "0        0  0.505650\n",
      "1        1  0.303538\n"
     ]
    }
   ],
   "source": [
    "\n",
    "for dataset in data:\n",
    "    dataset['IsAlone'] = 0\n",
    "    dataset.loc[dataset['FamilySize'] == 1, 'IsAlone'] = 1\n",
    "\n",
    "print (df_train[['IsAlone', 'Survived']].groupby(['IsAlone'], as_index=False).mean())"
   ]
  },
  {
   "cell_type": "code",
   "execution_count": 33,
   "id": "0bc66413",
   "metadata": {
    "execution": {
     "iopub.execute_input": "2021-07-31T00:08:35.821131Z",
     "iopub.status.busy": "2021-07-31T00:08:35.820485Z",
     "iopub.status.idle": "2021-07-31T00:08:36.621387Z",
     "shell.execute_reply": "2021-07-31T00:08:36.620756Z",
     "shell.execute_reply.started": "2021-07-31T00:03:46.712178Z"
    },
    "papermill": {
     "duration": 0.869934,
     "end_time": "2021-07-31T00:08:36.621548",
     "exception": false,
     "start_time": "2021-07-31T00:08:35.751614",
     "status": "completed"
    },
    "tags": []
   },
   "outputs": [
    {
     "data": {
      "image/png": "[encoded data removed]",
      "text/plain": [
       "<Figure size 864x864 with 2 Axes>"
      ]
     },
     "metadata": {
      "needs_background": "light"
     },
     "output_type": "display_data"
    }
   ],
   "source": [
    "colormap=plt.cm.RdBu\n",
    "figure = plt.figure(figsize=(12,12))\n",
    "sns.heatmap(df_train.corr(),linewidths=0.1,vmax=1.0, square=True, cmap=colormap, linecolor='white', annot=True)\n",
    "plt.title(\"Correlations\",size=15)\n",
    "plt.xlabel(\"Features\")\n",
    "plt.ylabel(\"Features\")\n",
    "plt.show()"
   ]
  },
  {
   "cell_type": "code",
   "execution_count": 34,
   "id": "31cb4663",
   "metadata": {
    "execution": {
     "iopub.execute_input": "2021-07-31T00:08:36.749343Z",
     "iopub.status.busy": "2021-07-31T00:08:36.748572Z",
     "iopub.status.idle": "2021-07-31T00:08:36.751519Z",
     "shell.execute_reply": "2021-07-31T00:08:36.752010Z",
     "shell.execute_reply.started": "2021-07-31T00:03:47.496066Z"
    },
    "papermill": {
     "duration": 0.07039,
     "end_time": "2021-07-31T00:08:36.752194",
     "exception": false,
     "start_time": "2021-07-31T00:08:36.681804",
     "status": "completed"
    },
    "tags": []
   },
   "outputs": [
    {
     "data": {
      "text/plain": [
       "891"
      ]
     },
     "execution_count": 34,
     "metadata": {},
     "output_type": "execute_result"
    }
   ],
   "source": [
    "columns = [\"Pclass\",\"Sex\", \"Fare\", \"Embarked\",\"Title\",\"IsAlone\"]\n",
    "X_train = df_train[columns]\n",
    "Y_train = df_train[\"Survived\"]\n",
    "len(Y_train)"
   ]
  },
  {
   "cell_type": "code",
   "execution_count": 35,
   "id": "b72e5302",
   "metadata": {
    "execution": {
     "iopub.execute_input": "2021-07-31T00:08:36.878849Z",
     "iopub.status.busy": "2021-07-31T00:08:36.878168Z",
     "iopub.status.idle": "2021-07-31T00:08:36.884434Z",
     "shell.execute_reply": "2021-07-31T00:08:36.884929Z",
     "shell.execute_reply.started": "2021-07-31T00:03:47.506176Z"
    },
    "papermill": {
     "duration": 0.071451,
     "end_time": "2021-07-31T00:08:36.885116",
     "exception": false,
     "start_time": "2021-07-31T00:08:36.813665",
     "status": "completed"
    },
    "tags": []
   },
   "outputs": [
    {
     "data": {
      "text/plain": [
       "418"
      ]
     },
     "execution_count": 35,
     "metadata": {},
     "output_type": "execute_result"
    }
   ],
   "source": [
    "X_test = df_test[columns]\n",
    "len(X_test)"
   ]
  },
  {
   "cell_type": "code",
   "execution_count": 36,
   "id": "af02c9c7",
   "metadata": {
    "execution": {
     "iopub.execute_input": "2021-07-31T00:08:37.011396Z",
     "iopub.status.busy": "2021-07-31T00:08:37.010663Z",
     "iopub.status.idle": "2021-07-31T00:08:37.016453Z",
     "shell.execute_reply": "2021-07-31T00:08:37.015801Z",
     "shell.execute_reply.started": "2021-07-31T00:03:47.521431Z"
    },
    "papermill": {
     "duration": 0.070561,
     "end_time": "2021-07-31T00:08:37.016595",
     "exception": false,
     "start_time": "2021-07-31T00:08:36.946034",
     "status": "completed"
    },
    "tags": []
   },
   "outputs": [
    {
     "data": {
      "text/plain": [
       "418"
      ]
     },
     "execution_count": 36,
     "metadata": {},
     "output_type": "execute_result"
    }
   ],
   "source": [
    "len(Y_test)"
   ]
  },
  {
   "cell_type": "markdown",
   "id": "a3f5771c",
   "metadata": {
    "papermill": {
     "duration": 0.06049,
     "end_time": "2021-07-31T00:08:37.138192",
     "exception": false,
     "start_time": "2021-07-31T00:08:37.077702",
     "status": "completed"
    },
    "tags": []
   },
   "source": [
    "## ML Clasification Prediction"
   ]
  },
  {
   "cell_type": "markdown",
   "id": "af213d37",
   "metadata": {
    "papermill": {
     "duration": 0.060868,
     "end_time": "2021-07-31T00:08:37.260232",
     "exception": false,
     "start_time": "2021-07-31T00:08:37.199364",
     "status": "completed"
    },
    "tags": []
   },
   "source": [
    "### 1- SGDClassifier (66%)"
   ]
  },
  {
   "cell_type": "code",
   "execution_count": 37,
   "id": "133e535e",
   "metadata": {
    "execution": {
     "iopub.execute_input": "2021-07-31T00:08:37.390396Z",
     "iopub.status.busy": "2021-07-31T00:08:37.389692Z",
     "iopub.status.idle": "2021-07-31T00:08:37.537012Z",
     "shell.execute_reply": "2021-07-31T00:08:37.537542Z",
     "shell.execute_reply.started": "2021-07-31T00:03:47.532932Z"
    },
    "papermill": {
     "duration": 0.216234,
     "end_time": "2021-07-31T00:08:37.537713",
     "exception": false,
     "start_time": "2021-07-31T00:08:37.321479",
     "status": "completed"
    },
    "tags": []
   },
   "outputs": [
    {
     "name": "stdout",
     "output_type": "stream",
     "text": [
      "the train score of SGD =  70.82 %\n"
     ]
    }
   ],
   "source": [
    "sgd_clf = SGDClassifier(random_state=42, max_iter=1000, tol=1e-3)\n",
    "sgd_clf.fit(X_train, Y_train)\n",
    "Y_pred_SGD = sgd_clf.predict(X_test)\n",
    "print(\"the train score of SGD = \",round(sgd_clf.score(X_train, Y_train) *100, 2),\"%\")"
   ]
  },
  {
   "cell_type": "markdown",
   "id": "4f90cf2f",
   "metadata": {
    "papermill": {
     "duration": 0.061114,
     "end_time": "2021-07-31T00:08:37.660434",
     "exception": false,
     "start_time": "2021-07-31T00:08:37.599320",
     "status": "completed"
    },
    "tags": []
   },
   "source": [
    "### 2- Random Forest (78%)"
   ]
  },
  {
   "cell_type": "code",
   "execution_count": 38,
   "id": "547936b6",
   "metadata": {
    "execution": {
     "iopub.execute_input": "2021-07-31T00:08:37.787020Z",
     "iopub.status.busy": "2021-07-31T00:08:37.786395Z",
     "iopub.status.idle": "2021-07-31T00:08:38.244696Z",
     "shell.execute_reply": "2021-07-31T00:08:38.245198Z",
     "shell.execute_reply.started": "2021-07-31T00:03:47.718447Z"
    },
    "papermill": {
     "duration": 0.523233,
     "end_time": "2021-07-31T00:08:38.245385",
     "exception": false,
     "start_time": "2021-07-31T00:08:37.722152",
     "status": "completed"
    },
    "tags": []
   },
   "outputs": [
    {
     "name": "stdout",
     "output_type": "stream",
     "text": [
      "the train score of random_forest =  84.18 %\n"
     ]
    }
   ],
   "source": [
    "random_forest = RandomForestClassifier(n_estimators=40, min_samples_leaf=2, max_features=0.1, n_jobs=-1)\n",
    "random_forest.fit(X_train, Y_train)\n",
    "Y_pred_Random = random_forest.predict(X_test)\n",
    "print(\"the train score of random_forest = \",round(random_forest.score(X_train, Y_train) *100, 2),\"%\")"
   ]
  },
  {
   "cell_type": "markdown",
   "id": "b2ea6bb7",
   "metadata": {
    "papermill": {
     "duration": 0.061808,
     "end_time": "2021-07-31T00:08:38.369252",
     "exception": false,
     "start_time": "2021-07-31T00:08:38.307444",
     "status": "completed"
    },
    "tags": []
   },
   "source": [
    "### 3- Logistic Regression (76.6%)"
   ]
  },
  {
   "cell_type": "code",
   "execution_count": 39,
   "id": "8763754c",
   "metadata": {
    "execution": {
     "iopub.execute_input": "2021-07-31T00:08:38.502067Z",
     "iopub.status.busy": "2021-07-31T00:08:38.501063Z",
     "iopub.status.idle": "2021-07-31T00:08:38.512605Z",
     "shell.execute_reply": "2021-07-31T00:08:38.511972Z",
     "shell.execute_reply.started": "2021-07-31T00:03:48.167824Z"
    },
    "papermill": {
     "duration": 0.081085,
     "end_time": "2021-07-31T00:08:38.512735",
     "exception": false,
     "start_time": "2021-07-31T00:08:38.431650",
     "status": "completed"
    },
    "tags": []
   },
   "outputs": [
    {
     "name": "stdout",
     "output_type": "stream",
     "text": [
      "the train score of logistic_regression =  78.11 %\n"
     ]
    }
   ],
   "source": [
    "logistic_regression = LogisticRegression(solver='liblinear',max_iter=1000)\n",
    "logistic_regression.fit(X_train, Y_train)\n",
    "Y_pred_Logistic = logistic_regression.predict(X_test)\n",
    "print(\"the train score of logistic_regression = \",round(logistic_regression.score(X_train, Y_train) *100, 2),\"%\")"
   ]
  },
  {
   "cell_type": "markdown",
   "id": "91571ecc",
   "metadata": {
    "papermill": {
     "duration": 0.061855,
     "end_time": "2021-07-31T00:08:38.636864",
     "exception": false,
     "start_time": "2021-07-31T00:08:38.575009",
     "status": "completed"
    },
    "tags": []
   },
   "source": [
    "### 4- Decision Tree (78%)"
   ]
  },
  {
   "cell_type": "code",
   "execution_count": 40,
   "id": "9d6f8eb9",
   "metadata": {
    "execution": {
     "iopub.execute_input": "2021-07-31T00:08:38.771017Z",
     "iopub.status.busy": "2021-07-31T00:08:38.769931Z",
     "iopub.status.idle": "2021-07-31T00:08:38.779919Z",
     "shell.execute_reply": "2021-07-31T00:08:38.779375Z",
     "shell.execute_reply.started": "2021-07-31T00:03:48.185517Z"
    },
    "papermill": {
     "duration": 0.080381,
     "end_time": "2021-07-31T00:08:38.780066",
     "exception": false,
     "start_time": "2021-07-31T00:08:38.699685",
     "status": "completed"
    },
    "tags": []
   },
   "outputs": [
    {
     "name": "stdout",
     "output_type": "stream",
     "text": [
      "the score of prediction =  84.4 %\n"
     ]
    }
   ],
   "source": [
    "tree = DecisionTreeClassifier(random_state=25)\n",
    "tree.fit(X_train, Y_train)\n",
    "Y_pred_Tree= tree.predict(X_test)\n",
    "print(\"the score of prediction = \",round(tree.score(X_train, Y_train) * 100,2), \"%\")"
   ]
  },
  {
   "cell_type": "code",
   "execution_count": 41,
   "id": "0594c8f0",
   "metadata": {
    "execution": {
     "iopub.execute_input": "2021-07-31T00:08:38.910448Z",
     "iopub.status.busy": "2021-07-31T00:08:38.909793Z",
     "iopub.status.idle": "2021-07-31T00:08:39.466157Z",
     "shell.execute_reply": "2021-07-31T00:08:39.466646Z",
     "shell.execute_reply.started": "2021-07-31T00:03:48.200716Z"
    },
    "papermill": {
     "duration": 0.62375,
     "end_time": "2021-07-31T00:08:39.466814",
     "exception": false,
     "start_time": "2021-07-31T00:08:38.843064",
     "status": "completed"
    },
    "tags": []
   },
   "outputs": [
    {
     "data": {
      "text/plain": [
       "0.8190277777777779"
      ]
     },
     "execution_count": 41,
     "metadata": {},
     "output_type": "execute_result"
    }
   ],
   "source": [
    "scores= cross_val_score(tree, X_train, Y_train, scoring=\"accuracy\", cv=100)\n",
    "scores.mean()"
   ]
  },
  {
   "cell_type": "markdown",
   "id": "d9fd4b0f",
   "metadata": {
    "papermill": {
     "duration": 0.062116,
     "end_time": "2021-07-31T00:08:39.590903",
     "exception": false,
     "start_time": "2021-07-31T00:08:39.528787",
     "status": "completed"
    },
    "tags": []
   },
   "source": [
    "### 5- SVM (76.55%)"
   ]
  },
  {
   "cell_type": "code",
   "execution_count": 42,
   "id": "49cedee5",
   "metadata": {
    "execution": {
     "iopub.execute_input": "2021-07-31T00:08:39.724712Z",
     "iopub.status.busy": "2021-07-31T00:08:39.723990Z",
     "iopub.status.idle": "2021-07-31T00:08:39.745561Z",
     "shell.execute_reply": "2021-07-31T00:08:39.746063Z",
     "shell.execute_reply.started": "2021-07-31T00:03:48.750413Z"
    },
    "papermill": {
     "duration": 0.091723,
     "end_time": "2021-07-31T00:08:39.746242",
     "exception": false,
     "start_time": "2021-07-31T00:08:39.654519",
     "status": "completed"
    },
    "tags": []
   },
   "outputs": [
    {
     "name": "stdout",
     "output_type": "stream",
     "text": [
      "the score of prediction =  78.68 %\n"
     ]
    }
   ],
   "source": [
    "\n",
    "clf = svm.SVC(kernel = 'linear')\n",
    "clf.fit(X_train, Y_train)\n",
    "Y_predict_svm = clf.predict(X_test)\n",
    "print(\"the score of prediction = \",round(clf.score(X_train, Y_train) * 100,2), \"%\")"
   ]
  },
  {
   "cell_type": "markdown",
   "id": "fe7c0551",
   "metadata": {
    "papermill": {
     "duration": 0.064318,
     "end_time": "2021-07-31T00:08:39.875649",
     "exception": false,
     "start_time": "2021-07-31T00:08:39.811331",
     "status": "completed"
    },
    "tags": []
   },
   "source": [
    "### 6- KNeighbors (79.18%)"
   ]
  },
  {
   "cell_type": "code",
   "execution_count": 43,
   "id": "f29ecab9",
   "metadata": {
    "execution": {
     "iopub.execute_input": "2021-07-31T00:08:40.014426Z",
     "iopub.status.busy": "2021-07-31T00:08:40.013470Z",
     "iopub.status.idle": "2021-07-31T00:08:40.086665Z",
     "shell.execute_reply": "2021-07-31T00:08:40.087137Z",
     "shell.execute_reply.started": "2021-07-31T00:03:48.780149Z"
    },
    "papermill": {
     "duration": 0.148581,
     "end_time": "2021-07-31T00:08:40.087311",
     "exception": false,
     "start_time": "2021-07-31T00:08:39.938730",
     "status": "completed"
    },
    "tags": []
   },
   "outputs": [
    {
     "name": "stdout",
     "output_type": "stream",
     "text": [
      "the score of prediction =  82.6 %\n"
     ]
    }
   ],
   "source": [
    "knn = KNeighborsClassifier(n_neighbors=5)\n",
    "knn.fit(X_train, Y_train)\n",
    "Y_pred_KNN= knn.predict(X_test)\n",
    "print(\"the score of prediction = \",round(knn.score(X_train, Y_train) * 100,2), \"%\")"
   ]
  },
  {
   "cell_type": "code",
   "execution_count": 44,
   "id": "068fffc7",
   "metadata": {
    "execution": {
     "iopub.execute_input": "2021-07-31T00:08:40.222739Z",
     "iopub.status.busy": "2021-07-31T00:08:40.222044Z",
     "iopub.status.idle": "2021-07-31T00:08:40.228311Z",
     "shell.execute_reply": "2021-07-31T00:08:40.228754Z",
     "shell.execute_reply.started": "2021-07-31T00:03:48.84482Z"
    },
    "papermill": {
     "duration": 0.078601,
     "end_time": "2021-07-31T00:08:40.228918",
     "exception": false,
     "start_time": "2021-07-31T00:08:40.150317",
     "status": "completed"
    },
    "tags": []
   },
   "outputs": [],
   "source": [
    "output_csv = {\"PassengerId\":[*range(892,892+len(Y_pred_KNN))], \"Survived\":Y_pred_KNN}\n",
    "Y_pre = pd.DataFrame(output_csv)\n",
    "Y_pre.set_index(\"PassengerId\", drop=True, append=False, inplace=True)\n",
    "Y_pre.to_csv(\"/kaggle/working/submission.csv\")"
   ]
  },
  {
   "cell_type": "markdown",
   "id": "c34caf18",
   "metadata": {
    "papermill": {
     "duration": 0.062696,
     "end_time": "2021-07-31T00:08:40.354836",
     "exception": false,
     "start_time": "2021-07-31T00:08:40.292140",
     "status": "completed"
    },
    "tags": []
   },
   "source": [
    "### 7- MlPClassifier (77.5%)"
   ]
  },
  {
   "cell_type": "code",
   "execution_count": 45,
   "id": "a281fffd",
   "metadata": {
    "execution": {
     "iopub.execute_input": "2021-07-31T00:08:40.488136Z",
     "iopub.status.busy": "2021-07-31T00:08:40.487494Z",
     "iopub.status.idle": "2021-07-31T00:08:40.508937Z",
     "shell.execute_reply": "2021-07-31T00:08:40.508317Z",
     "shell.execute_reply.started": "2021-07-31T00:03:48.859067Z"
    },
    "papermill": {
     "duration": 0.091404,
     "end_time": "2021-07-31T00:08:40.509083",
     "exception": false,
     "start_time": "2021-07-31T00:08:40.417679",
     "status": "completed"
    },
    "tags": []
   },
   "outputs": [
    {
     "name": "stdout",
     "output_type": "stream",
     "text": [
      "the score of prediction =  61.62 %\n"
     ]
    }
   ],
   "source": [
    "clf = MLPClassifier(solver='lbfgs', alpha=1e-5, hidden_layer_sizes=(3, 2), random_state=1)\n",
    "clf.fit(X_train, Y_train)\n",
    "Y_pred_clf= clf.predict(X_test)\n",
    "print(\"the score of prediction = \",round(clf.score(X_train, Y_train) * 100,2), \"%\")"
   ]
  },
  {
   "cell_type": "markdown",
   "id": "b484252a",
   "metadata": {
    "papermill": {
     "duration": 0.063204,
     "end_time": "2021-07-31T00:08:40.635600",
     "exception": false,
     "start_time": "2021-07-31T00:08:40.572396",
     "status": "completed"
    },
    "tags": []
   },
   "source": [
    "### 8- GaussianNB (74.6%)"
   ]
  },
  {
   "cell_type": "code",
   "execution_count": 46,
   "id": "d6d0efd8",
   "metadata": {
    "execution": {
     "iopub.execute_input": "2021-07-31T00:08:40.770246Z",
     "iopub.status.busy": "2021-07-31T00:08:40.769574Z",
     "iopub.status.idle": "2021-07-31T00:08:40.778252Z",
     "shell.execute_reply": "2021-07-31T00:08:40.778740Z",
     "shell.execute_reply.started": "2021-07-31T00:03:48.894959Z"
    },
    "papermill": {
     "duration": 0.079824,
     "end_time": "2021-07-31T00:08:40.778903",
     "exception": false,
     "start_time": "2021-07-31T00:08:40.699079",
     "status": "completed"
    },
    "tags": []
   },
   "outputs": [
    {
     "name": "stdout",
     "output_type": "stream",
     "text": [
      "the train score for Gaussian =  77.78 %\n"
     ]
    }
   ],
   "source": [
    "gaussian = GaussianNB()\n",
    "gaussian.fit(X_train, Y_train)\n",
    "Y_pred_gaussian = gaussian.predict(X_test)\n",
    "print(\"the train score for Gaussian = \", round(gaussian.score(X_train, Y_train) * 100, 2), \"%\")"
   ]
  },
  {
   "cell_type": "markdown",
   "id": "c0ad7a94",
   "metadata": {
    "papermill": {
     "duration": 0.064504,
     "end_time": "2021-07-31T00:08:40.906764",
     "exception": false,
     "start_time": "2021-07-31T00:08:40.842260",
     "status": "completed"
    },
    "tags": []
   },
   "source": [
    "### 9- Perceptron (78.2%)"
   ]
  },
  {
   "cell_type": "code",
   "execution_count": 47,
   "id": "011e1401",
   "metadata": {
    "execution": {
     "iopub.execute_input": "2021-07-31T00:08:41.042473Z",
     "iopub.status.busy": "2021-07-31T00:08:41.041454Z",
     "iopub.status.idle": "2021-07-31T00:08:41.052353Z",
     "shell.execute_reply": "2021-07-31T00:08:41.051726Z",
     "shell.execute_reply.started": "2021-07-31T00:03:48.908432Z"
    },
    "papermill": {
     "duration": 0.081929,
     "end_time": "2021-07-31T00:08:41.052498",
     "exception": false,
     "start_time": "2021-07-31T00:08:40.970569",
     "status": "completed"
    },
    "tags": []
   },
   "outputs": [
    {
     "name": "stdout",
     "output_type": "stream",
     "text": [
      "the train score for Perceptron =  78.11 %\n"
     ]
    }
   ],
   "source": [
    "perceptron = Perceptron()\n",
    "perceptron.fit(X_train, Y_train)\n",
    "Y_pred_perceptron = perceptron.predict(X_test)\n",
    "print(\"the train score for Perceptron = \",round(perceptron.score(X_train, Y_train) * 100, 2), \"%\")"
   ]
  },
  {
   "cell_type": "code",
   "execution_count": 48,
   "id": "922db0db",
   "metadata": {
    "execution": {
     "iopub.execute_input": "2021-07-31T00:08:41.185592Z",
     "iopub.status.busy": "2021-07-31T00:08:41.184703Z",
     "iopub.status.idle": "2021-07-31T00:08:41.187894Z",
     "shell.execute_reply": "2021-07-31T00:08:41.187290Z",
     "shell.execute_reply.started": "2021-07-31T00:03:48.923208Z"
    },
    "papermill": {
     "duration": 0.071001,
     "end_time": "2021-07-31T00:08:41.188024",
     "exception": false,
     "start_time": "2021-07-31T00:08:41.117023",
     "status": "completed"
    },
    "tags": []
   },
   "outputs": [],
   "source": [
    "# !kaggle competitions download -c titanic\n",
    "# !kaggle competitions submit -c titanic -f /kaggle/working/submission.csv -m \"submission\""
   ]
  },
  {
   "cell_type": "code",
   "execution_count": 49,
   "id": "b6dc4b20",
   "metadata": {
    "execution": {
     "iopub.execute_input": "2021-07-31T00:08:41.330859Z",
     "iopub.status.busy": "2021-07-31T00:08:41.330190Z",
     "iopub.status.idle": "2021-07-31T00:08:41.332964Z",
     "shell.execute_reply": "2021-07-31T00:08:41.333547Z",
     "shell.execute_reply.started": "2021-07-31T00:03:48.92887Z"
    },
    "papermill": {
     "duration": 0.081363,
     "end_time": "2021-07-31T00:08:41.333707",
     "exception": false,
     "start_time": "2021-07-31T00:08:41.252344",
     "status": "completed"
    },
    "tags": []
   },
   "outputs": [
    {
     "data": {
      "text/html": [
       "<div>\n",
       "<style scoped>\n",
       "    .dataframe tbody tr th:only-of-type {\n",
       "        vertical-align: middle;\n",
       "    }\n",
       "\n",
       "    .dataframe tbody tr th {\n",
       "        vertical-align: top;\n",
       "    }\n",
       "\n",
       "    .dataframe thead th {\n",
       "        text-align: right;\n",
       "    }\n",
       "</style>\n",
       "<table border=\"1\" class=\"dataframe\">\n",
       "  <thead>\n",
       "    <tr style=\"text-align: right;\">\n",
       "      <th></th>\n",
       "      <th>models</th>\n",
       "      <th>test_score</th>\n",
       "    </tr>\n",
       "  </thead>\n",
       "  <tbody>\n",
       "    <tr>\n",
       "      <th>6</th>\n",
       "      <td>KNeighbors</td>\n",
       "      <td>79.18</td>\n",
       "    </tr>\n",
       "    <tr>\n",
       "      <th>9</th>\n",
       "      <td>Perceptron</td>\n",
       "      <td>78.20</td>\n",
       "    </tr>\n",
       "    <tr>\n",
       "      <th>2</th>\n",
       "      <td>Random Forest</td>\n",
       "      <td>78.00</td>\n",
       "    </tr>\n",
       "    <tr>\n",
       "      <th>4</th>\n",
       "      <td>Decision Tree</td>\n",
       "      <td>78.00</td>\n",
       "    </tr>\n",
       "    <tr>\n",
       "      <th>7</th>\n",
       "      <td>MlPClassifier</td>\n",
       "      <td>77.50</td>\n",
       "    </tr>\n",
       "    <tr>\n",
       "      <th>3</th>\n",
       "      <td>Logistic Regression</td>\n",
       "      <td>76.60</td>\n",
       "    </tr>\n",
       "    <tr>\n",
       "      <th>5</th>\n",
       "      <td>SVM</td>\n",
       "      <td>76.55</td>\n",
       "    </tr>\n",
       "    <tr>\n",
       "      <th>8</th>\n",
       "      <td>GaussianNB</td>\n",
       "      <td>74.60</td>\n",
       "    </tr>\n",
       "    <tr>\n",
       "      <th>1</th>\n",
       "      <td>SGDClassifier</td>\n",
       "      <td>66.00</td>\n",
       "    </tr>\n",
       "  </tbody>\n",
       "</table>\n",
       "</div>"
      ],
      "text/plain": [
       "                models  test_score\n",
       "6           KNeighbors       79.18\n",
       "9           Perceptron       78.20\n",
       "2        Random Forest       78.00\n",
       "4        Decision Tree       78.00\n",
       "7        MlPClassifier       77.50\n",
       "3  Logistic Regression       76.60\n",
       "5                  SVM       76.55\n",
       "8           GaussianNB       74.60\n",
       "1        SGDClassifier       66.00"
      ]
     },
     "execution_count": 49,
     "metadata": {},
     "output_type": "execute_result"
    }
   ],
   "source": [
    "model = [\"SGDClassifier\", \"Random Forest\", \"Logistic Regression\", \"Decision Tree\", \"SVM\",\n",
    "\"KNeighbors\", \"MlPClassifier\", \"GaussianNB\", \"Perceptron\"]\n",
    "score = [66, 78, 76.6, 78, 76.55, 79.18, 77.5, 74.6, 78.2]\n",
    "data_dict = {\"models\": model, \"test_score\": score}\n",
    "data_score = pd.DataFrame(data_dict)\n",
    "data_score.index = data_score.index + 1\n",
    "data_score.sort_values(\"test_score\",ascending=False)"
   ]
  },
  {
   "cell_type": "code",
   "execution_count": null,
   "id": "630d4444",
   "metadata": {
    "papermill": {
     "duration": 0.064177,
     "end_time": "2021-07-31T00:08:41.463256",
     "exception": false,
     "start_time": "2021-07-31T00:08:41.399079",
     "status": "completed"
    },
    "tags": []
   },
   "outputs": [],
   "source": []
  }
 ],
 "metadata": {
  "kernelspec": {
   "display_name": "Python 3",
   "language": "python",
   "name": "python3"
  },
  "language_info": {
   "codemirror_mode": {
    "name": "ipython",
    "version": 3
   },
   "file_extension": ".py",
   "mimetype": "text/x-python",
   "name": "python",
   "nbconvert_exporter": "python",
   "pygments_lexer": "ipython3",
   "version": "3.7.10"
  },
  "papermill": {
   "default_parameters": {},
   "duration": 20.920319,
   "end_time": "2021-07-31T00:08:42.859496",
   "environment_variables": {},
   "exception": null,
   "input_path": "__notebook__.ipynb",
   "output_path": "__notebook__.ipynb",
   "parameters": {},
   "start_time": "2021-07-31T00:08:21.939177",
   "version": "2.3.3"
  }
 },
 "nbformat": 4,
 "nbformat_minor": 5
}
